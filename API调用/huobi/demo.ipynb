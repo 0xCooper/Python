{
 "metadata": {
  "language_info": {
   "codemirror_mode": {
    "name": "ipython",
    "version": 3
   },
   "file_extension": ".py",
   "mimetype": "text/x-python",
   "name": "python",
   "nbconvert_exporter": "python",
   "pygments_lexer": "ipython3",
   "version": "3.8.8"
  },
  "orig_nbformat": 2,
  "kernelspec": {
   "name": "python3",
   "display_name": "Python 3.8.8 64-bit ('base': conda)"
  },
  "interpreter": {
   "hash": "4c5f429ec872ea494f53fb46661bad297d0434321fc100f6728bd8b38d69703a"
  }
 },
 "nbformat": 4,
 "nbformat_minor": 2,
 "cells": [
  {
   "cell_type": "code",
   "execution_count": 1,
   "metadata": {},
   "outputs": [
    {
     "output_type": "stream",
     "name": "stdout",
     "text": [
      "https://api.huobi.pro/v1/common/currencys\n",
      "<class 'dict'>\n"
     ]
    }
   ],
   "source": [
    "import json\n",
    "import requests\n",
    "BASE_URL='https://api.huobi.pro/'\n",
    "currencys='v1/common/currencys'\n",
    "#'v2/market-status'\n",
    "currencys_url=BASE_URL+currencys\n",
    "print(currencys_url)\n",
    "\n",
    "\n",
    "headers ={'User-Agent': 'Mozilla/6.0(Windows;U;Windows NT 6.1;en-US; rv:1.9.1.6)Gecko/20091201 Firefox/3.55.6'}\n",
    "\n",
    "#代理池\n",
    "proxies={\n",
    "     \"https\":\"127.0.0.1:8889\",\n",
    "}\n",
    "response = requests.get(currencys_url, proxies=proxies,headers =headers)\n",
    "json_response=response.content.decode('utf-8')\n",
    "dict_json = json.loads(json_response)\n",
    "\n",
    "json_response\n",
    "r_json=response.json()#request带的，将返回值输出json格式,不是字符串，而是dict 类型\n",
    "print(type(r_json))\n",
    "# dict_json['message']"
   ]
  },
  {
   "source": [
    "#输出\n",
    "#dict_json\n",
    "#'{\"code\":200,\"message\":\"success\",\"data\":{\"marketStatus\":1}}'"
   ],
   "cell_type": "code",
   "metadata": {},
   "execution_count": null,
   "outputs": []
  },
  {
   "cell_type": "code",
   "execution_count": null,
   "metadata": {},
   "outputs": [],
   "source": [
    "import json\n",
    "json.dumps(dict) #字典转换成json字符串\n",
    "json.loads(json_str) #json字符串转换成字典"
   ]
  },
  {
   "cell_type": "code",
   "execution_count": 3,
   "metadata": {},
   "outputs": [],
   "source": [
    "#保存二维码\n",
    "import qrcode\n",
    "img=qrcode.make(\"www.baidu.com\")\n",
    "img.save(\"baidu.png\")\n",
    "img.show()"
   ]
  },
  {
   "cell_type": "code",
   "execution_count": null,
   "metadata": {},
   "outputs": [],
   "source": [
    "import ccxt"
   ]
  },
  {
   "cell_type": "code",
   "execution_count": 5,
   "metadata": {},
   "outputs": [
    {
     "output_type": "stream",
     "name": "stdout",
     "text": [
      "1 \n [2, 3]\n"
     ]
    }
   ],
   "source": []
  },
  {
   "cell_type": "code",
   "execution_count": null,
   "metadata": {},
   "outputs": [],
   "source": []
  }
 ]
}