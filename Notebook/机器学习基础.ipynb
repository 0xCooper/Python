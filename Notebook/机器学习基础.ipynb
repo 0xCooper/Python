{
 "metadata": {
  "language_info": {
   "codemirror_mode": {
    "name": "ipython",
    "version": 3
   },
   "file_extension": ".py",
   "mimetype": "text/x-python",
   "name": "python",
   "nbconvert_exporter": "python",
   "pygments_lexer": "ipython3",
   "version": "3.8.8-final"
  },
  "orig_nbformat": 2,
  "kernelspec": {
   "name": "python3",
   "display_name": "Python 3",
   "language": "python"
  }
 },
 "nbformat": 4,
 "nbformat_minor": 2,
 "cells": [
  {
   "cell_type": "code",
   "execution_count": 2,
   "metadata": {},
   "outputs": [
    {
     "output_type": "stream",
     "name": "stdout",
     "text": [
      "hello\n"
     ]
    }
   ],
   "source": [
    "#数据导入\n",
    "#数据处理\n",
    "#模型训练\n",
    "#模型预测\n",
    "#结果导出"
   ]
  },
  {
   "cell_type": "code",
   "execution_count": 19,
   "metadata": {},
   "outputs": [
    {
     "output_type": "stream",
     "name": "stdout",
     "text": [
      "https://aip.baidubce.com/oauth/2.0/token?grant_type=client_credentials&client_id=0pjUGQsRMWO6ADqCENqdIGB5&client_secret=4c6bmfbnl37NGZxlBU5z45Bd0IQMey4Z\n",
      "<Response [200]>\n",
      "------------已完成---------------------\n"
     ]
    }
   ],
   "source": [
    "import requests, base64\n",
    "import uuid\n",
    "#api接口去创建应用的ak与sk\n",
    "AK = \"0pjUGQsRMWO6ADqCENqdIGB5\"\n",
    "SK = \"4c6bmfbnl37NGZxlBU5z45Bd0IQMey4Z\"\n",
    "\n",
    "def get_acess_token():\n",
    "    # client_id 为官网获取的AK， client_secret 为官网获取的SK，去 百度智能管理中心创建获取\n",
    "    host = 'https://aip.baidubce.com/oauth/2.0/token?grant_type=client_credentials&client_id=%s&client_secret=%s'%(AK,SK)\n",
    "    print(host)\n",
    "    response = requests.get(host)\n",
    "    print(response)\n",
    "    return response.json()['access_token']\n",
    "\n",
    "\n",
    "def make_picture(path):\n",
    "    request_url = \"https://aip.baidubce.com/rest/2.0/image-process/v1/selfie_anime\"\n",
    "    # request_url = \"https://aip.baidubce.com/rest/2.0/image-process/v1/style_trans\"\n",
    "    \n",
    "    # 二进制方式打开图片文件\n",
    "    f = open(path, 'rb')\n",
    "    img = base64.b64encode(f.read())\n",
    "\n",
    "    params = {\"image\": img}\n",
    "    access_token = get_acess_token()\n",
    "    request_url = request_url + \"?access_token=\" + access_token\n",
    "    headers = {'content-type': 'application/x-www-form-urlencoded'}\n",
    "    response = requests.post(request_url, data=params, headers=headers)\n",
    "\n",
    "    res = response.json()\n",
    "\n",
    "    if res:\n",
    "        f = open(str(uuid.uuid1()) + '.png', 'wb')\n",
    "        after_img = res['image']\n",
    "        after_img = base64.b64decode(after_img)\n",
    "        f.write(after_img)\n",
    "        f.close()\n",
    "\n",
    "    print('------------已完成---------------------')\n",
    "\n",
    "\n",
    "if __name__ == '__main__':\n",
    "\n",
    "    path='E:\\图片壁纸\\Test\\human\\man01.jpg'\n",
    "    make_picture(path)\n"
   ]
  },
  {
   "cell_type": "code",
   "execution_count": 3,
   "metadata": {},
   "outputs": [
    {
     "output_type": "stream",
     "name": "stdout",
     "text": [
      "hello\n0\n1\n2\n3\n4\n5\n6\n7\n8\n9\n"
     ]
    }
   ],
   "source": [
    "print(\"hello\")\n",
    "for i in range(10):\n",
    "    print(i)"
   ]
  },
  {
   "cell_type": "code",
   "execution_count": null,
   "metadata": {},
   "outputs": [],
   "source": []
  }
 ]
}