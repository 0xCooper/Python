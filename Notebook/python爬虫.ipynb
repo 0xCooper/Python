{
 "cells": [
  {
   "cell_type": "code",
   "execution_count": 39,
   "metadata": {
    "scrolled": false
   },
   "outputs": [
    {
     "output_type": "stream",
     "name": "stdout",
     "text": [
      "集中捕获\nname 'num1' is not defined\n"
     ]
    }
   ],
   "source": [
    "#!anaconda/bin/python\n",
    "\n",
    "#捕获异常\n",
    "try:\n",
    "    print(num1)\n",
    "    f = open(\"a.txt\",\"r\")\n",
    "    \n",
    "# except IOError:\n",
    "#     #发生异常时执行的代码\n",
    "#     print(\"can not open\",\"a.txt\")\n",
    "# except NameError:\n",
    "#     print(\"异常发生\")\n",
    "\n",
    "except Exception as result:\n",
    "    print(承接所有异常))\n",
    "    print(result)\n",
    "\n",
    "\n",
    "except(NameError,IOError)as result:\n",
    "    print(\"集中捕获\")\n",
    "    print(result)\n",
    "else:\n",
    "    pass\n",
    "    #正常执行代码"
   ]
  },
  {
   "cell_type": "code",
   "execution_count": 1,
   "metadata": {},
   "outputs": [
    {
     "output_type": "stream",
     "name": "stdout",
     "text": [
      "error happen\n[Errno 2] No such file or directory: '123.txt'\n"
     ]
    }
   ],
   "source": [
    "#嵌套处理文件异常\n",
    "import time\n",
    "\n",
    "try:\n",
    "    f=open(\"123.txt\",\"r\")\n",
    "    try:\n",
    "        while True:\n",
    "            content = f.readline()\n",
    "            if len(content) ==0:\n",
    "                break\n",
    "            time.sleep(2)\n",
    "            print(content)\n",
    "    finally:\n",
    "        f.close()\n",
    "        print(\"文件关闭\")\n",
    "except Exception as result:\n",
    "    print(\"error happen\")\n",
    "    print(result)\n",
    "\n",
    "\n"
   ]
  },
  {
   "cell_type": "markdown",
   "metadata": {},
   "source": [
    "\n",
    "#### 简单的第一个爬虫\n"
   ]
  },
  {
   "cell_type": "code",
   "execution_count": 15,
   "metadata": {
    "tags": []
   },
   "outputs": [
    {
     "output_type": "stream",
     "name": "stdout",
     "text": [
      "访问出错\n"
     ]
    }
   ],
   "source": [
    "# 获取页面\n",
    "import requests\n",
    "link =\"http://adddd.baidu.com\"  # 目标网页地址\n",
    "try:\n",
    "    headers ={'User-Agent': 'Mozilla/6.0(Windows;U;Windows NT 6.1;en-US; rv:1.9.1.6)Gecko/20091201 Firefox/3.55.6'}#定义请求头的浏览器代理，伪装成浏览器\n",
    "    r = requests.get(link,headers =headers)\n",
    "\n",
    "except:\n",
    "    print(\"访问出错\");  \n",
    "else:\n",
    "    print(r.status_code)#获取网页内容代码\n",
    "    if r.status_code==200:\n",
    "        print(\"目标网页存在\")\n",
    "    if r.status_code==404:\n",
    "        print(\"目标网页不存在\")\n",
    "\n"
   ]
  },
  {
   "cell_type": "code",
   "execution_count": 19,
   "metadata": {},
   "outputs": [],
   "source": [
    "#发送post请求\n",
    "import requests\n",
    "form = {'username': 'admin','password': 'admin123456'}\n",
    "response = requests.post(\"https://www.baidu.com\", data=form)\n",
    "#print(response.content.decode('utf-8'))"
   ]
  },
  {
   "cell_type": "code",
   "execution_count": 22,
   "metadata": {},
   "outputs": [
    {
     "output_type": "error",
     "ename": "MissingSchema",
     "evalue": "Invalid URL 'baidu': No schema supplied. Perhaps you meant http://baidu?",
     "traceback": [
      "\u001b[0;31m---------------------------------------------------------------------------\u001b[0m",
      "\u001b[0;31mMissingSchema\u001b[0m                             Traceback (most recent call last)",
      "\u001b[0;32m<ipython-input-22-3120eb96078a>\u001b[0m in \u001b[0;36m<module>\u001b[0;34m\u001b[0m\n\u001b[1;32m      1\u001b[0m \u001b[0;32mimport\u001b[0m \u001b[0mrequests\u001b[0m\u001b[0;34m\u001b[0m\u001b[0;34m\u001b[0m\u001b[0m\n\u001b[1;32m      2\u001b[0m \u001b[0mvalue\u001b[0m\u001b[0;34m=\u001b[0m\u001b[0;34m{\u001b[0m\u001b[0;34m'b'\u001b[0m\u001b[0;34m:\u001b[0m\u001b[0;36m2\u001b[0m\u001b[0;34m}\u001b[0m\u001b[0;34m\u001b[0m\u001b[0;34m\u001b[0m\u001b[0m\n\u001b[0;32m----> 3\u001b[0;31m \u001b[0mdemo\u001b[0m\u001b[0;34m=\u001b[0m\u001b[0mrequests\u001b[0m\u001b[0;34m.\u001b[0m\u001b[0mpost\u001b[0m\u001b[0;34m(\u001b[0m\u001b[0;34m\"baidu\"\u001b[0m\u001b[0;34m,\u001b[0m\u001b[0mvalue\u001b[0m\u001b[0;34m)\u001b[0m\u001b[0;34m\u001b[0m\u001b[0;34m\u001b[0m\u001b[0m\n\u001b[0m\u001b[1;32m      4\u001b[0m \u001b[0mprint\u001b[0m\u001b[0;34m(\u001b[0m\u001b[0mdemo\u001b[0m\u001b[0;34m.\u001b[0m\u001b[0mtext\u001b[0m\u001b[0;34m)\u001b[0m\u001b[0;34m\u001b[0m\u001b[0;34m\u001b[0m\u001b[0m\n",
      "\u001b[0;32m/anaconda/lib/python3.8/site-packages/requests/api.py\u001b[0m in \u001b[0;36mpost\u001b[0;34m(url, data, json, **kwargs)\u001b[0m\n\u001b[1;32m    117\u001b[0m     \"\"\"\n\u001b[1;32m    118\u001b[0m \u001b[0;34m\u001b[0m\u001b[0m\n\u001b[0;32m--> 119\u001b[0;31m     \u001b[0;32mreturn\u001b[0m \u001b[0mrequest\u001b[0m\u001b[0;34m(\u001b[0m\u001b[0;34m'post'\u001b[0m\u001b[0;34m,\u001b[0m \u001b[0murl\u001b[0m\u001b[0;34m,\u001b[0m \u001b[0mdata\u001b[0m\u001b[0;34m=\u001b[0m\u001b[0mdata\u001b[0m\u001b[0;34m,\u001b[0m \u001b[0mjson\u001b[0m\u001b[0;34m=\u001b[0m\u001b[0mjson\u001b[0m\u001b[0;34m,\u001b[0m \u001b[0;34m**\u001b[0m\u001b[0mkwargs\u001b[0m\u001b[0;34m)\u001b[0m\u001b[0;34m\u001b[0m\u001b[0;34m\u001b[0m\u001b[0m\n\u001b[0m\u001b[1;32m    120\u001b[0m \u001b[0;34m\u001b[0m\u001b[0m\n\u001b[1;32m    121\u001b[0m \u001b[0;34m\u001b[0m\u001b[0m\n",
      "\u001b[0;32m/anaconda/lib/python3.8/site-packages/requests/api.py\u001b[0m in \u001b[0;36mrequest\u001b[0;34m(method, url, **kwargs)\u001b[0m\n\u001b[1;32m     59\u001b[0m     \u001b[0;31m# cases, and look like a memory leak in others.\u001b[0m\u001b[0;34m\u001b[0m\u001b[0;34m\u001b[0m\u001b[0;34m\u001b[0m\u001b[0m\n\u001b[1;32m     60\u001b[0m     \u001b[0;32mwith\u001b[0m \u001b[0msessions\u001b[0m\u001b[0;34m.\u001b[0m\u001b[0mSession\u001b[0m\u001b[0;34m(\u001b[0m\u001b[0;34m)\u001b[0m \u001b[0;32mas\u001b[0m \u001b[0msession\u001b[0m\u001b[0;34m:\u001b[0m\u001b[0;34m\u001b[0m\u001b[0;34m\u001b[0m\u001b[0m\n\u001b[0;32m---> 61\u001b[0;31m         \u001b[0;32mreturn\u001b[0m \u001b[0msession\u001b[0m\u001b[0;34m.\u001b[0m\u001b[0mrequest\u001b[0m\u001b[0;34m(\u001b[0m\u001b[0mmethod\u001b[0m\u001b[0;34m=\u001b[0m\u001b[0mmethod\u001b[0m\u001b[0;34m,\u001b[0m \u001b[0murl\u001b[0m\u001b[0;34m=\u001b[0m\u001b[0murl\u001b[0m\u001b[0;34m,\u001b[0m \u001b[0;34m**\u001b[0m\u001b[0mkwargs\u001b[0m\u001b[0;34m)\u001b[0m\u001b[0;34m\u001b[0m\u001b[0;34m\u001b[0m\u001b[0m\n\u001b[0m\u001b[1;32m     62\u001b[0m \u001b[0;34m\u001b[0m\u001b[0m\n\u001b[1;32m     63\u001b[0m \u001b[0;34m\u001b[0m\u001b[0m\n",
      "\u001b[0;32m/anaconda/lib/python3.8/site-packages/requests/sessions.py\u001b[0m in \u001b[0;36mrequest\u001b[0;34m(self, method, url, params, data, headers, cookies, files, auth, timeout, allow_redirects, proxies, hooks, stream, verify, cert, json)\u001b[0m\n\u001b[1;32m    514\u001b[0m             \u001b[0mhooks\u001b[0m\u001b[0;34m=\u001b[0m\u001b[0mhooks\u001b[0m\u001b[0;34m,\u001b[0m\u001b[0;34m\u001b[0m\u001b[0;34m\u001b[0m\u001b[0m\n\u001b[1;32m    515\u001b[0m         )\n\u001b[0;32m--> 516\u001b[0;31m         \u001b[0mprep\u001b[0m \u001b[0;34m=\u001b[0m \u001b[0mself\u001b[0m\u001b[0;34m.\u001b[0m\u001b[0mprepare_request\u001b[0m\u001b[0;34m(\u001b[0m\u001b[0mreq\u001b[0m\u001b[0;34m)\u001b[0m\u001b[0;34m\u001b[0m\u001b[0;34m\u001b[0m\u001b[0m\n\u001b[0m\u001b[1;32m    517\u001b[0m \u001b[0;34m\u001b[0m\u001b[0m\n\u001b[1;32m    518\u001b[0m         \u001b[0mproxies\u001b[0m \u001b[0;34m=\u001b[0m \u001b[0mproxies\u001b[0m \u001b[0;32mor\u001b[0m \u001b[0;34m{\u001b[0m\u001b[0;34m}\u001b[0m\u001b[0;34m\u001b[0m\u001b[0;34m\u001b[0m\u001b[0m\n",
      "\u001b[0;32m/anaconda/lib/python3.8/site-packages/requests/sessions.py\u001b[0m in \u001b[0;36mprepare_request\u001b[0;34m(self, request)\u001b[0m\n\u001b[1;32m    447\u001b[0m \u001b[0;34m\u001b[0m\u001b[0m\n\u001b[1;32m    448\u001b[0m         \u001b[0mp\u001b[0m \u001b[0;34m=\u001b[0m \u001b[0mPreparedRequest\u001b[0m\u001b[0;34m(\u001b[0m\u001b[0;34m)\u001b[0m\u001b[0;34m\u001b[0m\u001b[0;34m\u001b[0m\u001b[0m\n\u001b[0;32m--> 449\u001b[0;31m         p.prepare(\n\u001b[0m\u001b[1;32m    450\u001b[0m             \u001b[0mmethod\u001b[0m\u001b[0;34m=\u001b[0m\u001b[0mrequest\u001b[0m\u001b[0;34m.\u001b[0m\u001b[0mmethod\u001b[0m\u001b[0;34m.\u001b[0m\u001b[0mupper\u001b[0m\u001b[0;34m(\u001b[0m\u001b[0;34m)\u001b[0m\u001b[0;34m,\u001b[0m\u001b[0;34m\u001b[0m\u001b[0;34m\u001b[0m\u001b[0m\n\u001b[1;32m    451\u001b[0m             \u001b[0murl\u001b[0m\u001b[0;34m=\u001b[0m\u001b[0mrequest\u001b[0m\u001b[0;34m.\u001b[0m\u001b[0murl\u001b[0m\u001b[0;34m,\u001b[0m\u001b[0;34m\u001b[0m\u001b[0;34m\u001b[0m\u001b[0m\n",
      "\u001b[0;32m/anaconda/lib/python3.8/site-packages/requests/models.py\u001b[0m in \u001b[0;36mprepare\u001b[0;34m(self, method, url, headers, files, data, params, auth, cookies, hooks, json)\u001b[0m\n\u001b[1;32m    312\u001b[0m \u001b[0;34m\u001b[0m\u001b[0m\n\u001b[1;32m    313\u001b[0m         \u001b[0mself\u001b[0m\u001b[0;34m.\u001b[0m\u001b[0mprepare_method\u001b[0m\u001b[0;34m(\u001b[0m\u001b[0mmethod\u001b[0m\u001b[0;34m)\u001b[0m\u001b[0;34m\u001b[0m\u001b[0;34m\u001b[0m\u001b[0m\n\u001b[0;32m--> 314\u001b[0;31m         \u001b[0mself\u001b[0m\u001b[0;34m.\u001b[0m\u001b[0mprepare_url\u001b[0m\u001b[0;34m(\u001b[0m\u001b[0murl\u001b[0m\u001b[0;34m,\u001b[0m \u001b[0mparams\u001b[0m\u001b[0;34m)\u001b[0m\u001b[0;34m\u001b[0m\u001b[0;34m\u001b[0m\u001b[0m\n\u001b[0m\u001b[1;32m    315\u001b[0m         \u001b[0mself\u001b[0m\u001b[0;34m.\u001b[0m\u001b[0mprepare_headers\u001b[0m\u001b[0;34m(\u001b[0m\u001b[0mheaders\u001b[0m\u001b[0;34m)\u001b[0m\u001b[0;34m\u001b[0m\u001b[0;34m\u001b[0m\u001b[0m\n\u001b[1;32m    316\u001b[0m         \u001b[0mself\u001b[0m\u001b[0;34m.\u001b[0m\u001b[0mprepare_cookies\u001b[0m\u001b[0;34m(\u001b[0m\u001b[0mcookies\u001b[0m\u001b[0;34m)\u001b[0m\u001b[0;34m\u001b[0m\u001b[0;34m\u001b[0m\u001b[0m\n",
      "\u001b[0;32m/anaconda/lib/python3.8/site-packages/requests/models.py\u001b[0m in \u001b[0;36mprepare_url\u001b[0;34m(self, url, params)\u001b[0m\n\u001b[1;32m    386\u001b[0m             \u001b[0merror\u001b[0m \u001b[0;34m=\u001b[0m \u001b[0merror\u001b[0m\u001b[0;34m.\u001b[0m\u001b[0mformat\u001b[0m\u001b[0;34m(\u001b[0m\u001b[0mto_native_string\u001b[0m\u001b[0;34m(\u001b[0m\u001b[0murl\u001b[0m\u001b[0;34m,\u001b[0m \u001b[0;34m'utf8'\u001b[0m\u001b[0;34m)\u001b[0m\u001b[0;34m)\u001b[0m\u001b[0;34m\u001b[0m\u001b[0;34m\u001b[0m\u001b[0m\n\u001b[1;32m    387\u001b[0m \u001b[0;34m\u001b[0m\u001b[0m\n\u001b[0;32m--> 388\u001b[0;31m             \u001b[0;32mraise\u001b[0m \u001b[0mMissingSchema\u001b[0m\u001b[0;34m(\u001b[0m\u001b[0merror\u001b[0m\u001b[0;34m)\u001b[0m\u001b[0;34m\u001b[0m\u001b[0;34m\u001b[0m\u001b[0m\n\u001b[0m\u001b[1;32m    389\u001b[0m \u001b[0;34m\u001b[0m\u001b[0m\n\u001b[1;32m    390\u001b[0m         \u001b[0;32mif\u001b[0m \u001b[0;32mnot\u001b[0m \u001b[0mhost\u001b[0m\u001b[0;34m:\u001b[0m\u001b[0;34m\u001b[0m\u001b[0;34m\u001b[0m\u001b[0m\n",
      "\u001b[0;31mMissingSchema\u001b[0m: Invalid URL 'baidu': No schema supplied. Perhaps you meant http://baidu?"
     ]
    }
   ],
   "source": [
    "import requests\n",
    "value={'b':2}\n",
    "demo=requests.post(\"baidu\",value)\n",
    "print(demo.text)"
   ]
  },
  {
   "cell_type": "code",
   "execution_count": null,
   "metadata": {},
   "outputs": [],
   "source": [
    "#session会话使用\n",
    "import requests\n",
    "http_session = requests.session()\n",
    "response = http_session.get(\"https://www.baidu.com\")\n",
    "print(response.content.decode('utf-8'))\n",
    "\n",
    "\n",
    "\n"
   ]
  },
  {
   "cell_type": "code",
   "execution_count": 28,
   "metadata": {},
   "outputs": [
    {
     "output_type": "stream",
     "name": "stdout",
     "text": [
      "<!DOCTYPE html>\n<!--STATUS OK--><html> <head><meta http-equiv=content-type content=text/html;charset=utf-8><meta http-equiv=X-UA-Compatible content=IE=Edge><meta content=always name=referrer><link rel=stylesheet type=text/css href=https://ss1.bdstatic.com/5eN1bjq8AAUYm2zgoY3K/r/www/cache/bdorz/baidu.min.css><title>百度一下，你就知道</title></head> <body link=#0000cc> <div id=wrapper> <div id=head> <div class=head_wrapper> <div class=s_form> <div class=s_form_wrapper> <div id=lg> <img hidefocus=true src=//www.baidu.com/img/bd_logo1.png width=270 height=129> </div> <form id=form name=f action=//www.baidu.com/s class=fm> <input type=hidden name=bdorz_come value=1> <input type=hidden name=ie value=utf-8> <input type=hidden name=f value=8> <input type=hidden name=rsv_bp value=1> <input type=hidden name=rsv_idx value=1> <input type=hidden name=tn value=baidu><span class=\"bg s_ipt_wr\"><input id=kw name=wd class=s_ipt value maxlength=255 autocomplete=off autofocus=autofocus></span><span class=\"bg s_btn_wr\"><input type=submit id=su value=百度一下 class=\"bg s_btn\" autofocus></span> </form> </div> </div> <div id=u1> <a href=http://news.baidu.com name=tj_trnews class=mnav>新闻</a> <a href=https://www.hao123.com name=tj_trhao123 class=mnav>hao123</a> <a href=http://map.baidu.com name=tj_trmap class=mnav>地图</a> <a href=http://v.baidu.com name=tj_trvideo class=mnav>视频</a> <a href=http://tieba.baidu.com name=tj_trtieba class=mnav>贴吧</a> <noscript> <a href=http://www.baidu.com/bdorz/login.gif?login&amp;tpl=mn&amp;u=http%3A%2F%2Fwww.baidu.com%2f%3fbdorz_come%3d1 name=tj_login class=lb>登录</a> </noscript> <script>document.write('<a href=\"http://www.baidu.com/bdorz/login.gif?login&tpl=mn&u='+ encodeURIComponent(window.location.href+ (window.location.search === \"\" ? \"?\" : \"&\")+ \"bdorz_come=1\")+ '\" name=\"tj_login\" class=\"lb\">登录</a>');\n                </script> <a href=//www.baidu.com/more/ name=tj_briicon class=bri style=\"display: block;\">更多产品</a> </div> </div> </div> <div id=ftCon> <div id=ftConw> <p id=lh> <a href=http://home.baidu.com>关于百度</a> <a href=http://ir.baidu.com>About Baidu</a> </p> <p id=cp>&copy;2017&nbsp;Baidu&nbsp;<a href=http://www.baidu.com/duty/>使用百度前必读</a>&nbsp; <a href=http://jianyi.baidu.com/ class=cp-feedback>意见反馈</a>&nbsp;京ICP证030173号&nbsp; <img src=//www.baidu.com/img/gs.gif> </p> </div> </div> </div> </body> </html>\n\n"
     ]
    }
   ],
   "source": [
    "#用cookie访问\n",
    "import requests\n",
    "http_session = requests.session()\n",
    "cookies = {'BAIDUID': 'CC97B75E17BC78:FG=1',\n",
    "            'BIDUPSID': 'CC97B75E17FE0BEEBC78',\n",
    "            'PSTM': '15700',\n",
    "            'BDSFRCVID': 'th-sJeC626F0ZTQA',\n",
    "            'H_BDCLCKID_SF': 'tJPjVC0yt',\n",
    "            'ispeed_lsm': '2',\n",
    "            'H_PS_645EC': '00e6qFET6oh4QC9Q',\n",
    "           }  # 为了减少篇幅，我删掉了后面的几个cookie，你们可不能偷懒哦~\n",
    "requests.utils.add_dict_to_cookiejar(http_session.cookies, cookies)\n",
    "response = http_session.get(\"https://www.baidu.com\")\n",
    "print(response.content.decode('utf-8'))"
   ]
  },
  {
   "cell_type": "code",
   "execution_count": 31,
   "metadata": {
    "tags": [
     "outputPrepend"
    ]
   },
   "outputs": [
    {
     "output_type": "stream",
     "name": "stdout",
     "text": [
      "日</li>\n                                <li class=\"dt\">剧情</li>\n                                <li class=\"dt\">中国大陆</li>\n                                <li class=\"dt last\"><span class=\"\">41人想看</span></li>\n                        </ul>\n                    </div>\n                </div>\n                \n                <div class=\"item mod odd\">\n                    <a class=\"thumb\" href=\"https://movie.douban.com/subject/35301257/\">\n                        <img src=\"https://img1.doubanio.com/view/photo/s_ratio_poster/public/p2629069779.jpg\" class=\"\" />\n                    </a>\n                    <div class=\"intro\">\n                        <h3>\n                            <a href=\"https://movie.douban.com/subject/35301257/\" class=\"\">一春</a>\n                            <span class=\"icon\"></span>\n                        </h3>\n                        <ul>\n                                <li class=\"dt\">03月20日</li>\n                                <li class=\"dt\">中国大陆</li>\n                                <li class=\"dt last\"><span class=\"\">9人想看</span></li>\n                                <a href=\"https://movie.douban.com/trailer/272147/#content\" class=\"trailer_icon\" >预告片</a>\n                        </ul>\n                    </div>\n                </div>\n                \n                <div class=\"item mod \">\n                    <a class=\"thumb\" href=\"https://movie.douban.com/subject/35351889/\">\n                        <img src=\"https://img9.doubanio.com/view/photo/s_ratio_poster/public/p2632093816.jpg\" class=\"\" />\n                    </a>\n                    <div class=\"intro\">\n                        <h3>\n                            <a href=\"https://movie.douban.com/subject/35351889/\" class=\"\">双水村里枣花香</a>\n                            <span class=\"icon\"></span>\n                        </h3>\n                        <ul>\n                                <li class=\"dt\">03月26日</li>\n                                <li class=\"dt\">爱情</li>\n                                <li class=\"dt\">中国大陆</li>\n                                <li class=\"dt last\"><span class=\"\">30人想看</span></li>\n                        </ul>\n                    </div>\n                </div>\n                \n                <div class=\"item mod odd\">\n                    <a class=\"thumb\" href=\"https://movie.douban.com/subject/34670706/\">\n                        <img src=\"https://img1.doubanio.com/view/photo/s_ratio_poster/public/p2629479927.jpg\" class=\"\" />\n                    </a>\n                    <div class=\"intro\">\n                        <h3>\n                            <a href=\"https://movie.douban.com/subject/34670706/\" class=\"\">来都来了</a>\n                            <span class=\"icon\"></span>\n                        </h3>\n                        <ul>\n                                <li class=\"dt\">04月01日</li>\n                                <li class=\"dt\">剧情 / 喜剧 / 爱情</li>\n                                <li class=\"dt\">中国大陆</li>\n                                <li class=\"dt last\"><span class=\"\">3810人想看</span></li>\n                                <a href=\"https://movie.douban.com/trailer/270379/#content\" class=\"trailer_icon\" >预告片</a>\n                        </ul>\n                    </div>\n                </div>\n                \n                <div class=\"item mod \">\n                    <a class=\"thumb\" href=\"https://movie.douban.com/subject/35158160/\">\n                        <img src=\"https://img3.doubanio.com/view/photo/s_ratio_poster/public/p2630463690.jpg\" class=\"\" />\n                    </a>\n                    <div class=\"intro\">\n                        <h3>\n                            <a href=\"https://movie.douban.com/subject/35158160/\" class=\"\">我的姐姐</a>\n                            <span class=\"icon\"></span>\n                        </h3>\n                        <ul>\n                                <li class=\"dt\">04月02日</li>\n                                <li class=\"dt\">剧情</li>\n                                <li class=\"dt\">中国大陆</li>\n                                <li class=\"dt last\"><span class=\"\">11725人想看</span></li>\n                                <a href=\"https://movie.douban.com/trailer/270385/#content\" class=\"trailer_icon\" >预告片</a>\n                        </ul>\n                    </div>\n                </div>\n                \n                <div class=\"item mod odd\">\n                    <a class=\"thumb\" href=\"https://movie.douban.com/subject/26818326/\">\n                        <img src=\"https://img3.doubanio.com/view/photo/s_ratio_poster/public/p2633380310.jpg\" class=\"\" />\n                    </a>\n                    <div class=\"intro\">\n                        <h3>\n                            <a href=\"https://movie.douban.com/subject/26818326/\" class=\"\">西游记之再世妖王</a>\n                            <span class=\"icon\"></span>\n                        </h3>\n                        <ul>\n                                <li class=\"dt\">04月02日</li>\n                                <li class=\"dt\">喜剧 / 动作 / 动画</li>\n                                <li class=\"dt\">中国大陆</li>\n                                <li class=\"dt last\"><span class=\"\">5107人想看</span></li>\n                                <a href=\"https://movie.douban.com/trailer/270522/#content\" class=\"trailer_icon\" >预告片</a>\n                        </ul>\n                    </div>\n                </div>\n            <p><a href=\"https://movie.douban.com/coming\">&gt; 查看全部即将上映的影片</a></p>\n        </div>\n    </div>\n\n            </div>\n            <div class=\"aside\">\n                \n    <div id=\"dale_movie_later_top_right\"></div>\n    \n\n\n\n<style>\n.activity{margin-bottom:20px;}\n.activity ul{color:#888;padding-left:5px;}\n.activity h3{background:none;margin:0;padding:0;height:auto;}\n</style>\n\n<div id=\"watch_movie\" class=\"s mod\" data-dstat-areaid=\"43\" data-dstat-mode=\"click\">\n    <div class=\"hd\"><h2>成都观影活动  · · ·  · · · </h2></div>\n    <div class=\"bd\">\n        <div class=\"activity\">\n            <h3><a href=\"https://www.douban.com/event/34032859/\">观影《触不可及》（法国版）</a></h3>\n            <ul>\n                <li>2021年02月09日 ~ 2021年05月09日 每天 14:30 - 17:30</li>\n                <li>成都 高新区 成都市希望天祥广场</li>\n            </ul>\n        </div>\n        <div class=\"activity\">\n            <h3><a href=\"https://www.douban.com/event/34038136/\">THINK TANK电影交友大法好</a></h3>\n            <ul>\n                <li>2021年02月19日 ~ 2021年05月15日 每天 09:00 - 22:30</li>\n                <li>成都 武侯区 国嘉美领居陶然居</li>\n            </ul>\n        </div>\n        <div class=\"activity\">\n            <h3><a href=\"https://www.douban.com/event/33972843/\">盗梦超前免费观影｜成都站</a></h3>\n            <ul>\n                <li>2021年01月01日 ~ 2021年03月31日 每天 19:30 - 21:30</li>\n                <li>成都 锦江区 锦江区二环路</li>\n            </ul>\n        </div>\n    </div>\n</div>\n\n    \n\n<style type=\"text/css\">\n.douban-movie-official-site{margin:20px 0;background-color:#F5F5F5;padding:10px 15px;}\n.douban-movie-official-site a{margin-left:5px;}\n</style>\n<p class=\"douban-movie-official-site\">\n    免费观影活动，请关注 <a href=\"https://site.douban.com/movieclub\">豆瓣观影club</a>\n</p>\n\n    \n\n<style type=\"text/css\">\n.apply{color:#666;}\n.apply li{line-height:24px;}\n.apply span{margin-right:30px;}\n</style>\n<div class=\"apply\">\n    <ul>\n        <li><span>申请</span><a href=\"https://movie.douban.com/cinema/apply\">电影院小站</a></li>\n        <li><span>联系</span>movie@douban.com</li>\n    </ul>\n</div>\n\n\n            </div>\n            <div class=\"extra\">\n                \n            </div>\n        </div>\n    </div>\n\n        \n    <div id=\"footer\">\n            <div class=\"footer-extra\"></div>\n        \n<span id=\"icp\" class=\"fleft gray-link\">\n    &copy; 2005－2021 douban.com, all rights reserved 北京豆网科技有限公司\n</span>\n\n<a href=\"https://www.douban.com/hnypt/variformcyst.py\" style=\"display: none;\"></a>\n\n<span class=\"fright\">\n    <a href=\"https://www.douban.com/about\">关于豆瓣</a>\n    · <a href=\"https://www.douban.com/jobs\">在豆瓣工作</a>\n    · <a href=\"https://www.douban.com/about?topic=contactus\">联系我们</a>\n    · <a href=\"https://www.douban.com/about/legal\">法律声明</a>\n    \n    · <a href=\"https://help.douban.com/?app=main\" target=\"_blank\">帮助中心</a>\n    · <a href=\"https://www.douban.com/doubanapp/\">移动应用</a>\n    · <a href=\"https://www.douban.com/partner/\">豆瓣广告</a>\n</span>\n\n    </div>\n\n    </div>\n    <!-- COLLECTED JS -->\n        \n        \n    <link rel=\"stylesheet\" type=\"text/css\" href=\"https://img3.doubanio.com/f/shire/8377b9498330a2e6f056d863987cc7a37eb4d486/css/ui/dialog.css\" />\n    <link rel=\"stylesheet\" type=\"text/css\" href=\"https://img3.doubanio.com/f/epstein/1d829b8605b9e81435b127cbf3d16563aaa51838/css/movie/mod/reg_login_pop.css\" />\n    <script type=\"text/javascript\" src=\"https://img3.doubanio.com/f/shire/77323ae72a612bba8b65f845491513ff3329b1bb/js/do.js\" data-cfg-autoload=\"false\"></script>\n    <script type=\"text/javascript\" src=\"https://img3.doubanio.com/f/shire/383a6e43f2108dc69e3ff2681bc4dc6c72a5ffb0/js/ui/dialog.js\"></script>\n    <script type=\"text/javascript\">\n        var HTTPS_DB='https://www.douban.com';\nvar account_pop={open:function(o,e){e?referrer=\"?referrer=\"+encodeURIComponent(e):referrer=\"?referrer=\"+window.location.href;var n=\"\",i=\"\",t=382;\"reg\"===o?(n=\"用户注册\",i=\"https://accounts.douban.com/popup/login?source=movie#popup_register\",t=480):\"login\"===o&&(n=\"用户登录\",i=\"https://accounts.douban.com/popup/login?source=movie\");var r=document.location.protocol+\"//\"+document.location.hostname,a=dui.Dialog({width:478,title:n,height:t,cls:\"account_pop\",isHideTitle:!0,modal:!0,content:\"<iframe scrolling='no' frameborder='0' width='478' height='\"+t+\"' src='\"+i+\"' name='\"+r+\"'></iframe>\"},!0),c=a.node;if(c.undelegate(),c.delegate(\".dui-dialog-close\",\"click\",function(){var o=$(\"body\");o.find(\"#login_msk\").hide(),o.find(\".account_pop\").remove()}),$(window).width()<478){var u=\"\";\"reg\"===o?u=HTTPS_DB+\"/accounts/register\"+referrer:\"login\"===o&&(u=HTTPS_DB+\"/accounts/login\"+referrer),window.location.href=u}else a.open();$(window).bind(\"message\",function(o){\"https://accounts.douban.com\"===o.originalEvent.origin&&(c.find(\"iframe\").css(\"height\",o.originalEvent.data),c.height(o.originalEvent.data),a.update())})}};Douban&&Douban.init_show_login&&(Douban.init_show_login=function(o){var e=$(o);e.click(function(){var o=e.data(\"ref\")||\"\";return account_pop.open(\"login\",o),!1})}),Do(function(){$(\"body\").delegate(\".pop_register\",\"click\",function(o){o.preventDefault();var e=$(this).data(\"ref\")||\"\";return account_pop.open(\"reg\",e),!1}),$(\"body\").delegate(\".pop_login\",\"click\",function(o){o.preventDefault();var e=$(this).data(\"ref\")||\"\";return account_pop.open(\"login\",e),!1})});\n    </script>\n\n    \n    <script type=\"text/javascript\">\n        Do.ready('hotCities', function(){\n            $.fn.searchCinemas = function(tip){\n                var _start = 0;\n                $(this).focus(function(){\n                    _start = new Date();\n                    var $this = $(this);\n                    if($this.val() === tip){\n                        $this.val('');\n                    }\n                    $this.removeClass('tip');\n                }).blur(function(){\n                    var $this = $(this);\n                    if($this.val() === ''){\n                        $this.val(tip).addClass('tip');\n                    }\n                });\n\n                var xhr = null;\n\n                $(this).keyup(function(e){\n                    var start = new Date(),\n                        interval = start - _start,\n                        total,\n                        index,\n                        prev,\n                        next;\n\n                    var $results = $('div#search-results');\n                    if((_start === 0 && $(this).val().length > 1 || $(this).val().length > 1 && interval > 200) &&\n                        e.keyCode !== 38 && e.keyCode !== 40 && e.keyCode !== 13){\n                        $results.hide().empty();\n                        if(xhr){\n                            xhr.abort();\n                        }\n                        xhr = $.postJSON_withck('/j/cinema/search', {'q': $(this).val(), 'city_id': 118318, 'limit': 6}, function(data){\n                            var $ul = $('<ul></ul>');\n                            for(var i=0; i<data.cinemas.length; i++){\n                                var search = $('input.txt-search').val(),\n                                    keyword = '<em>' + search + '</em>',\n                                    name = data.cinemas[i].name,\n                                    cinema = name.replace(search, keyword),\n                                    _address = data.cinemas[i].address,\n                                    address = _address.replace(search, keyword);\n                                    $li = $('<li><a href=\"' + data.cinemas[i].url + '\"><strong>' + cinema + '</strong><p>' + address + '</p></a></li>');\n                                $ul.append($li);\n                                $li.hover(function(){\n                                        $(this).addClass('hover');\n                                    }, function(){\n                                        $(this).removeClass('hover');\n                                    });\n                            }\n                            if($ul.find('li').length){\n                                $results.append($ul).show();\n                            }\n                        });\n                    }\n                    _start = start;\n\n                    if($results.is(':visible')){\n                        total = $results.find('li').length - 1;\n                        index = $results.find('li').index($results.find('li.hover'));\n                        prev = (index === 0 || index === -1)? total: index - 1;\n                        next = index === total? 0: index + 1;\n                        switch(e.keyCode){\n                            case 38:\n                                $results.find('li').removeClass('hover');\n                                $('div#search-results li').eq(prev).addClass('hover');\n                                $('input.txt-search').val($('div#search-results li').eq(prev).find('strong').text());\n                                break;\n                            case 40:\n                                $results.find('li').removeClass('hover');\n                                $('div#search-results li').eq(next).addClass('hover');\n                                $('input.txt-search').val($('div#search-results li').eq(next).find('strong').text());\n                                break;\n                            case 13:\n                                e.preventDefault();\n                                if($results.find('li.hover').length){\n                                    window.location.href = $results.find('li.hover a:first').attr('href');\n                                }\n                                return false;\n                                break;\n                            default:\n                        }\n                    }else if($results.is(':hidden') || $results.find('li.hover').length === 0){\n                        if(e.keyCode === 13){\n                            if($('input.txt-search').is('.tip')){\n                                return false;\n                            }else{\n                                $('form#search-cinemas').submit();\n                            }\n                        }\n                    }\n                });\n\n                $(document).bind('click.closeSearchResults', function(e){\n                    if($(this).parents('div#search-results').length === 0 && e.keyCode !== 38 && e.keyCode !== 40 && e.keyCode !== 13){\n                        $('div#search-results').hide();\n                    }\n                });\n            };\n\n            $('div.search-cinemas input.txt-search').searchCinemas('影院名称、地址');\n            $('input.btn-submit').bind('click', function(){\n                if($('input.txt-search').is('.tip')){\n                    return false;\n                }else{\n                    $('form#search-cinemas').submit();\n                }\n            });\n\n            var hot = new HotCities({'trigger': '.change-loc'});\n            hot.init();\n        });\n    </script>\n\n    <!-- douban ad begin -->\n    \n\n\n\n\n    \n<script type=\"text/javascript\">\n    (function (global) {\n        var newNode = global.document.createElement('script'),\n            existingNode = global.document.getElementsByTagName('script')[0],\n            adSource = '//erebor.douban.com/',\n            userId = '',\n            browserId = 'u0jEZF0uFZw',\n            criteria = '3:/cinema/later/chengdu/',\n            preview = '',\n            debug = false,\n            adSlots = ['dale_movie_later_top_right'];\n\n        global.DoubanAdRequest = {src: adSource, uid: userId, bid: browserId, crtr: criteria, prv: preview, debug: debug};\n        global.DoubanAdSlots = (global.DoubanAdSlots || []).concat(adSlots);\n\n        newNode.setAttribute('type', 'text/javascript');\n        newNode.setAttribute('src', '//img1.doubanio.com/NWt2ZHQ5bC9mL2FkanMvNmEyODIwODUxODI1ZmFhMDA5YzM3YzUzM2ZmOTJkZTk5NGUzODExYS9hZC5yZWxlYXNlLmpz');\n        newNode.setAttribute('async', true);\n        existingNode.parentNode.insertBefore(newNode, existingNode);\n    })(this);\n</script>\n\n\n\n\n\n\n\n\n\n\n    <!-- douban ad end -->\n\n    \n  \n\n\n\n\n\n\n\n\n\n<script type=\"text/javascript\">\nvar _paq = _paq || [];\n_paq.push(['trackPageView']);\n_paq.push(['enableLinkTracking']);\n(function() {\n    var p=(('https:' == document.location.protocol) ? 'https' : 'http'), u=p+'://fundin.douban.com/';\n    _paq.push(['setTrackerUrl', u+'piwik']);\n    _paq.push(['setSiteId', '100001']);\n    var d=document, g=d.createElement('script'), s=d.getElementsByTagName('script')[0];\n    g.type='text/javascript';\n    g.defer=true;\n    g.async=true;\n    g.src=p+'://img3.doubanio.com/dae/fundin/piwik.js';\n    s.parentNode.insertBefore(g,s);\n})();\n</script>\n\n<script type=\"text/javascript\">\nvar setMethodWithNs = function(namespace) {\n  var ns = namespace ? namespace + '.' : ''\n    , fn = function(string) {\n        if(!ns) {return string}\n        return ns + string\n      }\n  return fn\n}\n\nvar gaWithNamespace = function(fn, namespace) {\n  var method = setMethodWithNs(namespace)\n  fn.call(this, method)\n}\n\nvar _gaq = _gaq || []\n  , accounts = [\n      { id: 'UA-7019765-1', namespace: 'douban' }\n    , { id: 'UA-7019765-19', namespace: '' }\n    ]\n  , gaInit = function(account) {\n      gaWithNamespace(function(method) {\n        gaInitFn.call(this, method, account)\n      }, account.namespace)\n    }\n  , gaInitFn = function(method, account) {\n      _gaq.push([method('_setAccount'), account.id]);\n      _gaq.push([method('_setSampleRate'), '5']);\n\n      \n  _gaq.push([method('_addOrganic'), 'google', 'q'])\n  _gaq.push([method('_addOrganic'), 'baidu', 'wd'])\n  _gaq.push([method('_addOrganic'), 'soso', 'w'])\n  _gaq.push([method('_addOrganic'), 'youdao', 'q'])\n  _gaq.push([method('_addOrganic'), 'so.360.cn', 'q'])\n  _gaq.push([method('_addOrganic'), 'sogou', 'query'])\n  if (account.namespace) {\n    _gaq.push([method('_addIgnoredOrganic'), '豆瓣'])\n    _gaq.push([method('_addIgnoredOrganic'), 'douban'])\n    _gaq.push([method('_addIgnoredOrganic'), '豆瓣网'])\n    _gaq.push([method('_addIgnoredOrganic'), 'www.douban.com'])\n  }\n\n      if (account.namespace === 'douban') {\n        _gaq.push([method('_setDomainName'), '.douban.com'])\n      }\n\n        _gaq.push([method('_setCustomVar'), 1, 'responsive_view_mode', 'desktop', 3])\n\n        _gaq.push([method('_setCustomVar'), 2, 'login_status', '0', 2]);\n\n      _gaq.push([method('_trackPageview')])\n    }\n\nfor(var i = 0, l = accounts.length; i < l; i++) {\n  var account = accounts[i]\n  gaInit(account)\n}\n\n\n;(function() {\n    var ga = document.createElement('script');\n    ga.src = ('https:' == document.location.protocol ? 'https://ssl' : 'http://www') + '.google-analytics.com/ga.js';\n    ga.setAttribute('async', 'true');\n    document.documentElement.firstChild.appendChild(ga);\n})()\n</script>\n\n\n\n\n\n\n\n\n    <!-- dae-web-epstein--default-88498544c-6mwbz-->\n\n  <script>_SPLITTEST=''</script>\n</body>\n\n</html>\n\n\n\n"
     ]
    }
   ],
   "source": [
    "#Beautiful Soup使用\n",
    "\n",
    "import requests\n",
    "# 旧版教程\n",
    "# url = \"https://movie.douban.com/cinema/later/chengdu/\"\n",
    "# response = requests.get(url)\n",
    "\n",
    "# 2019-12-23更新，解决不能获取到响应的问题\n",
    "url = \"https://movie.douban.com/cinema/later/chengdu/\"  # URL不变\n",
    "# 新增伪装成浏览器的header\n",
    "fake_headers = {\n",
    "    'User-Agent': 'Mozilla/5.0 (Windows NT 10.0; WOW64) AppleWebKit/537.36 (KHTML, like Gecko) Chrome/79.0.3945.79 Safari/537.36'\n",
    "}\n",
    "response = requests.get(url, headers=fake_headers)  # 请求参数里面把假的请求header加上\n",
    "print(response.content.decode('utf-8'))\n",
    "# 保存网页到本地\n",
    "file_obj = open('testdir/douban.html', 'w')  # 以写模式打开名叫 douban.html的文件\n",
    "# 如果打开网页显示的是乱码那么就用下一行代码\n",
    "# file_obj = open('douban.html', 'w', encoding=\"utf-8\")  # 以写模式打开名叫 douban.html的文件，指定编码为utf-8\n",
    "file_obj.write(response.content.decode('utf-8'))  # 把响应的html内容\n",
    "file_obj.close()  # 关闭文件，结束写入\n"
   ]
  },
  {
   "cell_type": "code",
   "execution_count": 54,
   "metadata": {
    "tags": []
   },
   "outputs": [
    {
     "output_type": "stream",
     "name": "stdout",
     "text": [
      "汕尾\n"
     ]
    }
   ],
   "source": [
    "from bs4 import BeautifulSoup  # 从bs4引入BeautifulSoup\n",
    "# 读取文件内容到html变量里面\n",
    "file_obj = open('testdir/douban.html', 'r')  # 以读方式打开文件名为douban.html的文件 \n",
    "html = file_obj.read()  # 把文件的内容全部读取出来并赋值给html变量\n",
    "file_obj.close()  # 关闭文件对象\n",
    "\n",
    "soup = BeautifulSoup(html, 'lxml')  # 初始化BeautifulSoup html默认utf-8解析 lxml是BeautifulSoup采用的网页解析器\n",
    "print(soup.find('a',id=\"118293\").text)  # 输出BeautifulSoup转换后的内容\n",
    "\n",
    "#这里打印出了 a连接标签 id为118292 的内容\n"
   ]
  },
  {
   "source": [
    "\n",
    "\"\"\"\n",
    "BeautifulSoup的基本使用语法规则\n",
    "\n",
    ".find() 使用示例\n",
    "soup.find('a')。那么会返回在soup包含的源代码中，遇到的第一个<a>...</a>标签内容对象。\n",
    "soup.find('a', id='next')。那么会返回在soup包含的源代码中，遇到的第一个有属性为id，值为next的<a>对象，比如<a id=\"next\">...</a>。(不只可以用id，大部分其他的属性都可以直接使用，比如src、name。 值得注意的是，class这个属性因为是Python关键字，不能直接使用，所以在BS里面，使用class_='...'进行代替 )\n",
    "find返回的结果，依然可以继续使用find()或者find_all()方法。如果找不到指定的内容，find会返回None。\n",
    "\n",
    ".find_all()使用示例\n",
    "soup.find_all('a')。那么会返回在soup包含的源代码中，遇到的所有<a>...</a>标签内容的可迭代对象(我们可以把它看成一个 list 或者数组)。\n",
    "soup.find_all('a', class_='next')。那么会返回在soup包含的源代码中，遇到的所有属性为class，值为next的<a>的 可迭代对象，比如<a class=\"next\">...</a>。(语法和find也一样，class也不能直接写)\n",
    "find_all返回的“list”中的单个对象 依然可以继续使用find()或者find_all()方法。如果找不到指定的内容，find_all会返回一个空的“list”。\n",
    "\n",
    "获取元素的某个属性\n",
    "soup['src]，这样我们就能取出soup对象的src属性了。如果该属性不存在，那么程序会报错。\n",
    "\n",
    "获取元素中的所有文本\n",
    "soup.text，假设soup对象为<div>你好<a>复联</a></div>，那么这个操作返回字符串是你好复联。\n",
    "\"\"\"\n"
   ],
   "cell_type": "code",
   "metadata": {},
   "execution_count": 34,
   "outputs": [
    {
     "output_type": "execute_result",
     "data": {
      "text/plain": [
       "'\\nBeautifulSoup的基本使用语法规则\\n\\n.find() 使用示例\\nsoup.find(\\'a\\')。那么会返回在soup包含的源代码中，遇到的第一个<a>...</a>标签内容对象。\\nsoup.find(\\'a\\', id=\\'next\\')。那么会返回在soup包含的源代码中，遇到的第一个有属性为id，值为next的<a>对象，比如<a id=\"next\">...</a>。(不只可以用id，大部分其他的属性都可以直接使用，比如src、name。 值得注意的是，class这个属性因为是Python关键字，不能直接使用，所以在BS里面，使用class_=\\'...\\'进行代替 )\\nfind返回的结果，依然可以继续使用find()或者find_all()方法。如果找不到指定的内容，find会返回None。\\n\\n.find_all()使用示例\\nsoup.find_all(\\'a\\')。那么会返回在soup包含的源代码中，遇到的所有<a>...</a>标签内容的可迭代对象(我们可以把它看成一个 list 或者数组)。\\nsoup.find_all(\\'a\\', class_=\\'next\\')。那么会返回在soup包含的源代码中，遇到的所有属性为class，值为next的<a>的 可迭代对象，比如<a class=\"next\">...</a>。(语法和find也一样，class也不能直接写)\\nfind_all返回的“list”中的单个对象 依然可以继续使用find()或者find_all()方法。如果找不到指定的内容，find_all会返回一个空的“list”。\\n\\n获取元素的某个属性\\nsoup[\\'src]，这样我们就能取出soup对象的src属性了。如果该属性不存在，那么程序会报错。\\n\\n获取元素中的所有文本\\nsoup.text，假设soup对象为<div>你好<a>复联</a></div>，那么这个操作返回字符串是你好复联。\\n'"
      ]
     },
     "metadata": {},
     "execution_count": 34
    }
   ]
  },
  {
   "cell_type": "code",
   "execution_count": 56,
   "metadata": {},
   "outputs": [
    {
     "output_type": "stream",
     "name": "stdout",
     "text": [
      "<div class=\"item mod\">\n<a class=\"thumb\" href=\"https://movie.douban.com/subject/30188047/\">\n<img class=\"\" src=\"https://img9.doubanio.com/view/photo/s_ratio_poster/public/p2631665376.jpg\"/>\n</a>\n<div class=\"intro\">\n<h3>\n<a class=\"\" href=\"https://movie.douban.com/subject/30188047/\">扶贫主任</a>\n<span class=\"icon\"></span>\n</h3>\n<ul>\n<li class=\"dt\">02月23日</li>\n<li class=\"dt\">剧情</li>\n<li class=\"dt\">中国大陆</li>\n<li class=\"dt last\"><span class=\"\">484人想看</span></li>\n</ul>\n</div>\n</div>\n<div class=\"item mod odd\">\n<a class=\"thumb\" href=\"https://movie.douban.com/subject/3439312/\">\n<img class=\"\" src=\"https://img3.doubanio.com/view/photo/s_ratio_poster/public/p2632043260.jpg\"/>\n</a>\n<div class=\"intro\">\n<h3>\n<a class=\"\" href=\"https://movie.douban.com/subject/3439312/\">猫和老鼠</a>\n<span class=\"icon\"></span>\n</h3>\n<ul>\n<li class=\"dt\">02月26日</li>\n<li class=\"dt\">喜剧 / 动画 / 冒险</li>\n<li class=\"dt\">美国</li>\n<li class=\"dt last\"><span class=\"\">22235人想看</span></li>\n<a class=\"trailer_icon\" href=\"https://movie.douban.com/trailer/272026/#content\">预告片</a>\n</ul>\n</div>\n</div>\n<div class=\"item mod\">\n<a class=\"thumb\" href=\"https://movie.douban.com/subject/26935281/\">\n<img class=\"\" src=\"https://img1.doubanio.com/view/photo/s_ratio_poster/public/p2631489608.jpg\"/>\n</a>\n<div class=\"intro\">\n<h3>\n<a class=\"\" href=\"https://movie.douban.com/subject/26935281/\">郊区的鸟</a>\n<span class=\"icon\"></span>\n</h3>\n<ul>\n<li class=\"dt\">02月26日</li>\n<li class=\"dt\">剧情</li>\n<li class=\"dt\">中国大陆</li>\n<li class=\"dt last\"><span class=\"\">10498人想看</span></li>\n<a class=\"trailer_icon\" href=\"https://movie.douban.com/trailer/271185/#content\">预告片</a>\n</ul>\n</div>\n</div>\n<div class=\"item mod odd\">\n<a class=\"thumb\" href=\"https://movie.douban.com/subject/33413559/\">\n<img class=\"\" src=\"https://img2.doubanio.com/view/photo/s_ratio_poster/public/p2632599833.jpg\"/>\n</a>\n<div class=\"intro\">\n<h3>\n<a class=\"\" href=\"https://movie.douban.com/subject/33413559/\">特工妈咪</a>\n<span class=\"icon\"></span>\n</h3>\n<ul>\n<li class=\"dt\">02月26日</li>\n<li class=\"dt\">喜剧</li>\n<li class=\"dt\">意大利</li>\n<li class=\"dt last\"><span class=\"\">519人想看</span></li>\n<a class=\"trailer_icon\" href=\"https://movie.douban.com/trailer/271734/#content\">预告片</a>\n</ul>\n</div>\n</div>\n<div class=\"item mod\">\n<a class=\"thumb\" href=\"https://movie.douban.com/subject/34927951/\">\n<img class=\"\" src=\"https://img9.doubanio.com/view/photo/s_ratio_poster/public/p2632259526.jpg\"/>\n</a>\n<div class=\"intro\">\n<h3>\n<a class=\"\" href=\"https://movie.douban.com/subject/34927951/\">千顷澄碧的时代</a>\n<span class=\"icon\"></span>\n</h3>\n<ul>\n<li class=\"dt\">02月26日</li>\n<li class=\"dt\">剧情</li>\n<li class=\"dt\">中国大陆</li>\n<li class=\"dt last\"><span class=\"\">341人想看</span></li>\n<a class=\"trailer_icon\" href=\"https://movie.douban.com/trailer/271585/#content\">预告片</a>\n</ul>\n</div>\n</div>\n<div class=\"item mod odd\">\n<a class=\"thumb\" href=\"https://movie.douban.com/subject/30279836/\">\n<img class=\"\" src=\"https://img1.doubanio.com/view/photo/s_ratio_poster/public/p2631634707.jpg\"/>\n</a>\n<div class=\"intro\">\n<h3>\n<a class=\"\" href=\"https://movie.douban.com/subject/30279836/\">第十一回</a>\n<span class=\"icon\"></span>\n</h3>\n<ul>\n<li class=\"dt\">03月05日</li>\n<li class=\"dt\">剧情 / 喜剧 / 家庭</li>\n<li class=\"dt\">中国大陆</li>\n<li class=\"dt last\"><span class=\"\">22806人想看</span></li>\n<a class=\"trailer_icon\" href=\"https://movie.douban.com/trailer/271283/#content\">预告片</a>\n</ul>\n</div>\n</div>\n<div class=\"item mod\">\n<a class=\"thumb\" href=\"https://movie.douban.com/subject/34804147/\">\n<img class=\"\" src=\"https://img9.doubanio.com/view/photo/s_ratio_poster/public/p2633531206.jpg\"/>\n</a>\n<div class=\"intro\">\n<h3>\n<a class=\"\" href=\"https://movie.douban.com/subject/34804147/\">寻龙传说</a>\n<span class=\"icon\"></span>\n</h3>\n<ul>\n<li class=\"dt\">03月05日</li>\n<li class=\"dt\">动画 / 奇幻 / 冒险</li>\n<li class=\"dt\">美国</li>\n<li class=\"dt last\"><span class=\"\">8845人想看</span></li>\n<a class=\"trailer_icon\" href=\"https://movie.douban.com/trailer/271218/#content\">预告片</a>\n</ul>\n</div>\n</div>\n<div class=\"item mod odd\">\n<a class=\"thumb\" href=\"https://movie.douban.com/subject/34926613/\">\n<img class=\"\" src=\"https://img2.doubanio.com/view/photo/s_ratio_poster/public/p2631660672.jpg\"/>\n</a>\n<div class=\"intro\">\n<h3>\n<a class=\"\" href=\"https://movie.douban.com/subject/34926613/\">错爱迷踪</a>\n<span class=\"icon\"></span>\n</h3>\n<ul>\n<li class=\"dt\">03月05日</li>\n<li class=\"dt\">悬疑 / 惊悚</li>\n<li class=\"dt\">中国大陆</li>\n<li class=\"dt last\"><span class=\"\">79人想看</span></li>\n</ul>\n</div>\n</div>\n<div class=\"item mod\">\n<a class=\"thumb\" href=\"https://movie.douban.com/subject/34926496/\">\n<img class=\"\" src=\"https://img1.doubanio.com/view/photo/s_ratio_poster/public/p2633393708.jpg\"/>\n</a>\n<div class=\"intro\">\n<h3>\n<a class=\"\" href=\"https://movie.douban.com/subject/34926496/\">风吹浪涌</a>\n<span class=\"icon\"></span>\n</h3>\n<ul>\n<li class=\"dt\">03月06日</li>\n<li class=\"dt\">剧情</li>\n<li class=\"dt\">中国大陆</li>\n<li class=\"dt last\"><span class=\"\">25人想看</span></li>\n<a class=\"trailer_icon\" href=\"https://movie.douban.com/trailer/272032/#content\">预告片</a>\n</ul>\n</div>\n</div>\n<div class=\"item mod odd\">\n<a class=\"thumb\" href=\"https://movie.douban.com/subject/35332838/\">\n<img class=\"\" src=\"https://img9.doubanio.com/view/photo/s_ratio_poster/public/p2631706834.jpg\"/>\n</a>\n<div class=\"intro\">\n<h3>\n<a class=\"\" href=\"https://movie.douban.com/subject/35332838/\">破晓徂徕山</a>\n<span class=\"icon\"></span>\n</h3>\n<ul>\n<li class=\"dt\">03月09日</li>\n<li class=\"dt\">历史 / 战争</li>\n<li class=\"dt\">中国大陆</li>\n<li class=\"dt last\"><span class=\"\">53人想看</span></li>\n</ul>\n</div>\n</div>\n<div class=\"item mod\">\n<a class=\"thumb\" href=\"https://movie.douban.com/subject/30174652/\">\n<img class=\"\" src=\"https://img2.doubanio.com/view/photo/s_ratio_poster/public/p2632416473.jpg\"/>\n</a>\n<div class=\"intro\">\n<h3>\n<a class=\"\" href=\"https://movie.douban.com/subject/30174652/\">合法伴侣</a>\n<span class=\"icon\"></span>\n</h3>\n<ul>\n<li class=\"dt\">03月12日</li>\n<li class=\"dt\">喜剧 / 爱情</li>\n<li class=\"dt\">中国大陆</li>\n<li class=\"dt last\"><span class=\"\">4999人想看</span></li>\n<a class=\"trailer_icon\" href=\"https://movie.douban.com/trailer/271651/#content\">预告片</a>\n</ul>\n</div>\n</div>\n<div class=\"item mod odd\">\n<a class=\"thumb\" href=\"https://movie.douban.com/subject/27067713/\">\n<img class=\"\" src=\"https://img1.doubanio.com/view/photo/s_ratio_poster/public/p2629057017.jpg\"/>\n</a>\n<div class=\"intro\">\n<h3>\n<a class=\"\" href=\"https://movie.douban.com/subject/27067713/\">北京爱情图鉴</a>\n<span class=\"icon\"></span>\n</h3>\n<ul>\n<li class=\"dt\">03月12日</li>\n<li class=\"dt\">剧情</li>\n<li class=\"dt\">中国大陆</li>\n<li class=\"dt last\"><span class=\"\">1824人想看</span></li>\n<a class=\"trailer_icon\" href=\"https://movie.douban.com/trailer/270241/#content\">预告片</a>\n</ul>\n</div>\n</div>\n<div class=\"item mod\">\n<a class=\"thumb\" href=\"https://movie.douban.com/subject/35356779/\">\n<img class=\"\" src=\"https://img1.doubanio.com/view/photo/s_ratio_poster/public/p2632449758.jpg\"/>\n</a>\n<div class=\"intro\">\n<h3>\n<a class=\"\" href=\"https://movie.douban.com/subject/35356779/\">三只小猪3正义大联萌</a>\n<span class=\"icon\"></span>\n</h3>\n<ul>\n<li class=\"dt\">03月13日</li>\n<li class=\"dt\">动作 / 奇幻 / 冒险</li>\n<li class=\"dt\">中国大陆</li>\n<li class=\"dt last\"><span class=\"\">47人想看</span></li>\n<a class=\"trailer_icon\" href=\"https://movie.douban.com/trailer/271697/#content\">预告片</a>\n</ul>\n</div>\n</div>\n<div class=\"item mod odd\">\n<a class=\"thumb\" href=\"https://movie.douban.com/subject/30437716/\">\n<img class=\"\" src=\"https://img3.doubanio.com/view/photo/s_ratio_poster/public/p2632128061.jpg\"/>\n</a>\n<div class=\"intro\">\n<h3>\n<a class=\"\" href=\"https://movie.douban.com/subject/30437716/\">又见奈良</a>\n<span class=\"icon\"></span>\n</h3>\n<ul>\n<li class=\"dt\">03月19日</li>\n<li class=\"dt\">剧情</li>\n<li class=\"dt\">中国大陆</li>\n<li class=\"dt last\"><span class=\"\">10620人想看</span></li>\n<a class=\"trailer_icon\" href=\"https://movie.douban.com/trailer/271531/#content\">预告片</a>\n</ul>\n</div>\n</div>\n<div class=\"item mod\">\n<a class=\"thumb\" href=\"https://movie.douban.com/subject/35352612/\">\n<img class=\"\" src=\"https://img9.doubanio.com/view/photo/s_ratio_poster/public/p2632107564.jpg\"/>\n</a>\n<div class=\"intro\">\n<h3>\n<a class=\"\" href=\"https://movie.douban.com/subject/35352612/\">一些往事</a>\n<span class=\"icon\"></span>\n</h3>\n<ul>\n<li class=\"dt\">03月19日</li>\n<li class=\"dt\">剧情</li>\n<li class=\"dt\">中国大陆</li>\n<li class=\"dt last\"><span class=\"\">41人想看</span></li>\n</ul>\n</div>\n</div>\n<div class=\"item mod odd\">\n<a class=\"thumb\" href=\"https://movie.douban.com/subject/35301257/\">\n<img class=\"\" src=\"https://img1.doubanio.com/view/photo/s_ratio_poster/public/p2629069779.jpg\"/>\n</a>\n<div class=\"intro\">\n<h3>\n<a class=\"\" href=\"https://movie.douban.com/subject/35301257/\">一春</a>\n<span class=\"icon\"></span>\n</h3>\n<ul>\n<li class=\"dt\">03月20日</li>\n<li class=\"dt\">中国大陆</li>\n<li class=\"dt last\"><span class=\"\">9人想看</span></li>\n<a class=\"trailer_icon\" href=\"https://movie.douban.com/trailer/272147/#content\">预告片</a>\n</ul>\n</div>\n</div>\n<div class=\"item mod\">\n<a class=\"thumb\" href=\"https://movie.douban.com/subject/35351889/\">\n<img class=\"\" src=\"https://img9.doubanio.com/view/photo/s_ratio_poster/public/p2632093816.jpg\"/>\n</a>\n<div class=\"intro\">\n<h3>\n<a class=\"\" href=\"https://movie.douban.com/subject/35351889/\">双水村里枣花香</a>\n<span class=\"icon\"></span>\n</h3>\n<ul>\n<li class=\"dt\">03月26日</li>\n<li class=\"dt\">爱情</li>\n<li class=\"dt\">中国大陆</li>\n<li class=\"dt last\"><span class=\"\">30人想看</span></li>\n</ul>\n</div>\n</div>\n<div class=\"item mod odd\">\n<a class=\"thumb\" href=\"https://movie.douban.com/subject/34670706/\">\n<img class=\"\" src=\"https://img1.doubanio.com/view/photo/s_ratio_poster/public/p2629479927.jpg\"/>\n</a>\n<div class=\"intro\">\n<h3>\n<a class=\"\" href=\"https://movie.douban.com/subject/34670706/\">来都来了</a>\n<span class=\"icon\"></span>\n</h3>\n<ul>\n<li class=\"dt\">04月01日</li>\n<li class=\"dt\">剧情 / 喜剧 / 爱情</li>\n<li class=\"dt\">中国大陆</li>\n<li class=\"dt last\"><span class=\"\">3810人想看</span></li>\n<a class=\"trailer_icon\" href=\"https://movie.douban.com/trailer/270379/#content\">预告片</a>\n</ul>\n</div>\n</div>\n<div class=\"item mod\">\n<a class=\"thumb\" href=\"https://movie.douban.com/subject/35158160/\">\n<img class=\"\" src=\"https://img3.doubanio.com/view/photo/s_ratio_poster/public/p2630463690.jpg\"/>\n</a>\n<div class=\"intro\">\n<h3>\n<a class=\"\" href=\"https://movie.douban.com/subject/35158160/\">我的姐姐</a>\n<span class=\"icon\"></span>\n</h3>\n<ul>\n<li class=\"dt\">04月02日</li>\n<li class=\"dt\">剧情</li>\n<li class=\"dt\">中国大陆</li>\n<li class=\"dt last\"><span class=\"\">11725人想看</span></li>\n<a class=\"trailer_icon\" href=\"https://movie.douban.com/trailer/270385/#content\">预告片</a>\n</ul>\n</div>\n</div>\n<div class=\"item mod odd\">\n<a class=\"thumb\" href=\"https://movie.douban.com/subject/26818326/\">\n<img class=\"\" src=\"https://img3.doubanio.com/view/photo/s_ratio_poster/public/p2633380310.jpg\"/>\n</a>\n<div class=\"intro\">\n<h3>\n<a class=\"\" href=\"https://movie.douban.com/subject/26818326/\">西游记之再世妖王</a>\n<span class=\"icon\"></span>\n</h3>\n<ul>\n<li class=\"dt\">04月02日</li>\n<li class=\"dt\">喜剧 / 动作 / 动画</li>\n<li class=\"dt\">中国大陆</li>\n<li class=\"dt last\"><span class=\"\">5107人想看</span></li>\n<a class=\"trailer_icon\" href=\"https://movie.douban.com/trailer/270522/#content\">预告片</a>\n</ul>\n</div>\n</div>\n"
     ]
    }
   ],
   "source": [
    "from bs4 import BeautifulSoup  # 从bs4引入BeautifulSoup\n",
    "# 读取文件内容到html变量里面\n",
    "file_obj = open('testdir/douban.html', 'r')  # 以读方式打开文件名为douban.html的文件\n",
    "html = file_obj.read()  # 把文件的内容全部读取出来并赋值给html变量\n",
    "file_obj.close()  # 关闭文件对象\n",
    "\n",
    "soup = BeautifulSoup(html, 'lxml')  # 初始化BeautifulSoup\n",
    "# print(soup)  # 输出BeautifulSoup转换后的内容\n",
    "all_movies = soup.find('div', id=\"showing-soon\")  # 先找到最大的div\n",
    "# print(all_movies)  # 输出最大的div的内容\n",
    "for each_movie in all_movies.find_all('div', class_=\"item\"):  # 从最大的div里面找到影片的div\n",
    "    print(each_movie)  # 输出每个影片div的内容"
   ]
  },
  {
   "cell_type": "code",
   "execution_count": 63,
   "metadata": {},
   "outputs": [
    {
     "output_type": "stream",
     "name": "stdout",
     "text": [
      "名字：扶贫主任，链接：https://movie.douban.com/subject/30188047/，日期：02月23日，类型：剧情，地区：中国大陆， 关注者：484人想看\n名字：猫和老鼠，链接：https://movie.douban.com/subject/3439312/，日期：02月26日，类型：喜剧 / 动画 / 冒险，地区：美国， 关注者：22235人想看\n名字：郊区的鸟，链接：https://movie.douban.com/subject/26935281/，日期：02月26日，类型：剧情，地区：中国大陆， 关注者：10498人想看\n名字：特工妈咪，链接：https://movie.douban.com/subject/33413559/，日期：02月26日，类型：喜剧，地区：意大利， 关注者：519人想看\n名字：千顷澄碧的时代，链接：https://movie.douban.com/subject/34927951/，日期：02月26日，类型：剧情，地区：中国大陆， 关注者：341人想看\n名字：第十一回，链接：https://movie.douban.com/subject/30279836/，日期：03月05日，类型：剧情 / 喜剧 / 家庭，地区：中国大陆， 关注者：22806人想看\n名字：寻龙传说，链接：https://movie.douban.com/subject/34804147/，日期：03月05日，类型：动画 / 奇幻 / 冒险，地区：美国， 关注者：8845人想看\n名字：错爱迷踪，链接：https://movie.douban.com/subject/34926613/，日期：03月05日，类型：悬疑 / 惊悚，地区：中国大陆， 关注者：79人想看\n名字：风吹浪涌，链接：https://movie.douban.com/subject/34926496/，日期：03月06日，类型：剧情，地区：中国大陆， 关注者：25人想看\n名字：破晓徂徕山，链接：https://movie.douban.com/subject/35332838/，日期：03月09日，类型：历史 / 战争，地区：中国大陆， 关注者：53人想看\n名字：合法伴侣，链接：https://movie.douban.com/subject/30174652/，日期：03月12日，类型：喜剧 / 爱情，地区：中国大陆， 关注者：4999人想看\n名字：北京爱情图鉴，链接：https://movie.douban.com/subject/27067713/，日期：03月12日，类型：剧情，地区：中国大陆， 关注者：1824人想看\n名字：三只小猪3正义大联萌，链接：https://movie.douban.com/subject/35356779/，日期：03月13日，类型：动作 / 奇幻 / 冒险，地区：中国大陆， 关注者：47人想看\n名字：又见奈良，链接：https://movie.douban.com/subject/30437716/，日期：03月19日，类型：剧情，地区：中国大陆， 关注者：10620人想看\n名字：一些往事，链接：https://movie.douban.com/subject/35352612/，日期：03月19日，类型：剧情，地区：中国大陆， 关注者：41人想看\n名字：一春，链接：https://movie.douban.com/subject/35301257/，日期：03月20日，类型：中国大陆，地区：9人想看， 关注者：查询出错\n名字：双水村里枣花香，链接：https://movie.douban.com/subject/35351889/，日期：03月26日，类型：爱情，地区：中国大陆， 关注者：30人想看\n名字：来都来了，链接：https://movie.douban.com/subject/34670706/，日期：04月01日，类型：剧情 / 喜剧 / 爱情，地区：中国大陆， 关注者：3810人想看\n名字：我的姐姐，链接：https://movie.douban.com/subject/35158160/，日期：04月02日，类型：剧情，地区：中国大陆， 关注者：11725人想看\n名字：西游记之再世妖王，链接：https://movie.douban.com/subject/26818326/，日期：04月02日，类型：喜剧 / 动作 / 动画，地区：中国大陆， 关注者：5107人想看\n"
     ]
    }
   ],
   "source": [
    "from bs4 import BeautifulSoup  # 从bs4引入BeautifulSoup\n",
    "# 读取文件内容到html变量里面\n",
    "file_obj = open('testdir/douban.html', 'r')  # 以读方式打开文件名为douban.html的文件\n",
    "html = file_obj.read()  # 把文件的内容全部读取出来并赋值给html变量\n",
    "file_obj.close()  # 关闭文件对象\n",
    "\n",
    "soup = BeautifulSoup(html, 'lxml')  # 初始化BeautifulSoup\n",
    "# print(soup)  # 输出BeautifulSoup转换后的内容\n",
    "all_movies = soup.find('div', id=\"showing-soon\")  # 先找到最大的div\n",
    "# print(all_movies)  # 输出最大的div的内容\n",
    "for each_movie in all_movies.find_all('div', class_=\"item\"):  # 从最大的div里面找到影片的div\n",
    "    # print(each_movie)  # 输出每个影片div的内容\n",
    "    all_a_tag = each_movie.find_all('a')  # 找到所有的a标签\n",
    "    all_li_tag = each_movie.find_all('li')  # 找到所有的li标签\n",
    "\n",
    "    movie_name = all_a_tag[1].text  # 从第二个a标签的文字内容提取影片名字\n",
    "    moive_href = all_a_tag[1]['href']  # 从第二个a标签的文字内容提取影片链接\n",
    "    movie_date = all_li_tag[0].text  # 从第1个li标签的文字内容提取影片上映时间\n",
    "\n",
    "    movie_type = all_li_tag[1].text\n",
    "    movie_area = all_li_tag[2].text\n",
    "    if len(all_li_tag)<4:\n",
    "        movie_lovers=\"查询出错\"\n",
    "    else:\n",
    "        movie_lovers = all_li_tag[3].text\n",
    "    print('名字：{}，链接：{}，日期：{}，类型：{}，地区：{}， 关注者：{}'.format(\n",
    "        movie_name, moive_href, movie_date, movie_type, movie_area, movie_lovers))"
   ]
  },
  {
   "cell_type": "code",
   "execution_count": 73,
   "metadata": {},
   "outputs": [
    {
     "output_type": "stream",
     "name": "stdout",
     "text": [
      "名字：扶贫主任，链接：https://movie.douban.com/subject/30188047/，日期：02月23日，类型：剧情，地区：中国大陆， 关注者：486人想看\n名字：猫和老鼠，链接：https://movie.douban.com/subject/3439312/，日期：02月26日，类型：喜剧 / 动画 / 冒险，地区：美国， 关注者：22299人想看\n名字：郊区的鸟，链接：https://movie.douban.com/subject/26935281/，日期：02月26日，类型：剧情，地区：中国大陆， 关注者：10506人想看\n名字：特工妈咪，链接：https://movie.douban.com/subject/33413559/，日期：02月26日，类型：喜剧，地区：意大利， 关注者：518人想看\n名字：千顷澄碧的时代，链接：https://movie.douban.com/subject/34927951/，日期：02月26日，类型：剧情，地区：中国大陆， 关注者：357人想看\n名字：第十一回，链接：https://movie.douban.com/subject/30279836/，日期：03月05日，类型：剧情 / 喜剧 / 家庭，地区：中国大陆， 关注者：22886人想看\n名字：寻龙传说，链接：https://movie.douban.com/subject/34804147/，日期：03月05日，类型：动画 / 奇幻 / 冒险，地区：美国， 关注者：8896人想看\n名字：错爱迷踪，链接：https://movie.douban.com/subject/34926613/，日期：03月05日，类型：悬疑 / 惊悚，地区：中国大陆， 关注者：79人想看\n名字：风吹浪涌，链接：https://movie.douban.com/subject/34926496/，日期：03月06日，类型：剧情，地区：中国大陆， 关注者：26人想看\n名字：破晓徂徕山，链接：https://movie.douban.com/subject/35332838/，日期：03月09日，类型：历史 / 战争，地区：中国大陆， 关注者：54人想看\n名字：合法伴侣，链接：https://movie.douban.com/subject/30174652/，日期：03月12日，类型：喜剧 / 爱情，地区：中国大陆， 关注者：5000人想看\n名字：北京爱情图鉴，链接：https://movie.douban.com/subject/27067713/，日期：03月12日，类型：剧情，地区：中国大陆， 关注者：1824人想看\n名字：三只小猪3正义大联萌，链接：https://movie.douban.com/subject/35356779/，日期：03月13日，类型：动作 / 奇幻 / 冒险，地区：中国大陆， 关注者：47人想看\n名字：又见奈良，链接：https://movie.douban.com/subject/30437716/，日期：03月19日，类型：剧情，地区：中国大陆， 关注者：10632人想看\n名字：一些往事，链接：https://movie.douban.com/subject/35352612/，日期：03月19日，类型：剧情，地区：中国大陆， 关注者：41人想看\n一春 数据出错\n名字：双水村里枣花香，链接：https://movie.douban.com/subject/35351889/，日期：03月26日，类型：爱情，地区：中国大陆， 关注者：30人想看\n名字：来都来了，链接：https://movie.douban.com/subject/34670706/，日期：04月01日，类型：剧情 / 喜剧 / 爱情，地区：中国大陆， 关注者：3816人想看\n名字：我的姐姐，链接：https://movie.douban.com/subject/35158160/，日期：04月02日，类型：剧情，地区：中国大陆， 关注者：11753人想看\n名字：西游记之再世妖王，链接：https://movie.douban.com/subject/26818326/，日期：04月02日，类型：喜剧 / 动作 / 动画，地区：中国大陆， 关注者：5113人想看\n"
     ]
    }
   ],
   "source": [
    "#完整版本\n",
    "\n",
    "import requests\n",
    "from bs4 import BeautifulSoup  # 从bs4引入BeautifulSoup\n",
    "\n",
    "#请求网页\n",
    "# 2019-12-23更新，解决不能获取到响应的问题\n",
    "url = \"https://movie.douban.com/cinema/later/chengdu/\"  # URL不变\n",
    "# 新增伪装成浏览器的header\n",
    "fake_headers = {\n",
    "    'User-Agent': 'Mozilla/5.0 (Windows NT 10.0; '\\\n",
    "'WOW64) AppleWebKit/537.36 (KHTML, like Gecko) Chrome/79.0.3945.79 Safari/537.36'\n",
    "}\n",
    "response = requests.get(url, headers=fake_headers)  # 请求参数里面把假的请求header加上\n",
    "\n",
    "# 解析网页\n",
    "# 初始化BeautifulSoup方法一：利用网页字符串自带的编码信息解析网页\n",
    "soup = BeautifulSoup(response.content.decode('utf-8'), 'lxml')\n",
    "# 初始化BeautifulSoup方法二：手动指定解析编码解析网页\n",
    "# soup = BeautifulSoup(response.content, 'lxml', from_encoding='utf-8')\n",
    "\n",
    "# print(soup)  # 输出BeautifulSoup转换后的内容\n",
    "all_movies = soup.find('div', id=\"showing-soon\")  # 先找到最大的div\n",
    "# print(all_movies)  # 输出最大的div的内容\n",
    "for each_movie in all_movies.find_all('div', class_=\"item\"):  # 从最大的div里面找到影片的div\n",
    "    # print(each_movie)  # 输出每个影片div的内容\n",
    "    all_a_tag = each_movie.find_all('a')\n",
    "    all_li_tag = each_movie.find_all('li')\n",
    "    movie_name = all_a_tag[1].text\n",
    "    moive_href = all_a_tag[1]['href']\n",
    "    movie_date = all_li_tag[0].text\n",
    "    movie_type = all_li_tag[1].text\n",
    "    movie_area = all_li_tag[2].text\n",
    "    if len(all_li_tag)<4:\n",
    "        print(movie_name,\"数据出错\")\n",
    "    else:\n",
    "        movie_lovers = all_li_tag[3].text\n",
    "        print('名字：{}，链接：{}，日期：{}，类型：{}，地区：{}， 关注者：{}'.format(\n",
    "        movie_name, moive_href, movie_date, movie_type, movie_area, movie_lovers))\n",
    "\n"
   ]
  },
  {
   "cell_type": "code",
   "execution_count": 90,
   "metadata": {},
   "outputs": [
    {
     "output_type": "stream",
     "name": "stdout",
     "text": [
      "client.py  cookiejar.py  cookies.py  __init__.py  __pycache__  server.py\n"
     ]
    }
   ],
   "source": [
    "\n",
    "!ls /anaconda/lib/python3.8/client.py\n",
    "\n"
   ]
  },
  {
   "cell_type": "code",
   "execution_count": 109,
   "metadata": {
    "tags": []
   },
   "outputs": [
    {
     "output_type": "stream",
     "name": "stdout",
     "text": [
      " ____        _     _             _                          _             \n/ ___| _ __ (_) __| | ___ _ __  | |    ___  __ _ _ __ _ __ (_)_ __   __ _ \n\\___ \\| '_ \\| |/ _` |/ _ \\ '__| | |   / _ \\/ _` | '__| '_ \\| | '_ \\ / _` |\n ___) | |_) | | (_| |  __/ |    | |__|  __/ (_| | |  | | | | | | | | (_| |\n|____/| .__/|_|\\__,_|\\___|_|    |_____\\___|\\__,_|_|  |_| |_|_|_| |_|\\__, |\n      |_|                                                           |___/ \n"
     ]
    }
   ],
   "source": [
    "!figlet 'Spider Learning'"
   ]
  },
  {
   "cell_type": "code",
   "execution_count": 108,
   "metadata": {},
   "outputs": [
    {
     "output_type": "stream",
     "name": "stdout",
     "text": [
      "\u001b[0m\u001b[1;31m                          ./+o+-      \u001b[0m\u001b[1;31m slime\u001b[0m\u001b[1m@\u001b[0m\u001b[0m\u001b[1;31mSlime\u001b[0m\n",
      "\u001b[0m\u001b[1;37m                  yyyyy- \u001b[0m\u001b[1;31m-yyyyyy+     \u001b[0m\u001b[1;31m OS:\u001b[0m Ubuntu 20.04 focal\u001b[0m\n",
      "\u001b[0m\u001b[1;37m               \u001b[0m\u001b[1;37m://+//////\u001b[0m\u001b[1;31m-yyyyyyo     \u001b[0m\u001b[1;31m Kernel:\u001b[0m x86_64 Linux 5.8.0-43-generic\u001b[0m\n",
      "\u001b[0m\u001b[1;33m           .++ \u001b[0m\u001b[1;37m.:/++++++/-\u001b[0m\u001b[1;31m.+sss/`     \u001b[0m\u001b[1;31m Uptime:\u001b[0m 1d 22h 13m\u001b[0m\n",
      "\u001b[0m\u001b[1;33m         .:++o:  \u001b[0m\u001b[1;37m/++++++++/:--:/-     \u001b[0m\u001b[1;31m Packages:\u001b[0m 2234\u001b[0m\n",
      "\u001b[0m\u001b[1;33m        o:+o+:++.\u001b[0m\u001b[1;37m`..```.-/oo+++++/    \u001b[0m\u001b[1;31m Shell:\u001b[0m python\u001b[0m\n",
      "\u001b[0m\u001b[1;33m       .:+o:+o/.\u001b[0m\u001b[1;37m          `+sssoo+/   \u001b[0m\u001b[1;31m Resolution:\u001b[0m 3840x1080\u001b[0m\n",
      "\u001b[0m\u001b[1;37m  .++/+:\u001b[0m\u001b[1;33m+oo+o:`\u001b[0m\u001b[1;37m             /sssooo.  \u001b[0m\u001b[1;31m DE:\u001b[0m GNOME 3.36.4\u001b[0m\n",
      "\u001b[0m\u001b[1;37m /+++//+:\u001b[0m\u001b[1;33m`oo+o\u001b[0m\u001b[1;37m               /::--:.  \u001b[0m\u001b[1;31m WM:\u001b[0m Mutter\u001b[0m\n",
      "\u001b[0m\u001b[1;37m \\+/+o+++\u001b[0m\u001b[1;33m`o++o\u001b[0m\u001b[1;31m               ++////.  \u001b[0m\u001b[1;31m WM Theme:\u001b[0m Adwaita\u001b[0m\n",
      "\u001b[0m\u001b[1;37m  .++.o+\u001b[0m\u001b[1;33m++oo+:`\u001b[0m\u001b[1;31m             /dddhhh.  \u001b[0m\u001b[1;31m GTK Theme:\u001b[0m Yaru [GTK2/3]\u001b[0m\n",
      "\u001b[0m\u001b[1;33m       .+.o+oo:.\u001b[0m\u001b[1;31m          `oddhhhh+   \u001b[0m\u001b[1;31m Icon Theme:\u001b[0m ubuntu-mono-dark\u001b[0m\n",
      "\u001b[0m\u001b[1;33m        \\+.++o+o`\u001b[0m\u001b[1;31m`-````.:ohdhhhhh+    \u001b[0m\u001b[1;31m Font:\u001b[0m Cantarell 11\u001b[0m\n",
      "\u001b[0m\u001b[1;33m         `:o+++ \u001b[0m\u001b[1;31m`ohhhhhhhhyo++os:     \u001b[0m\u001b[1;31m Disk:\u001b[0m 1.4T / 2.0T (72%)\u001b[0m\n",
      "\u001b[0m\u001b[1;33m           .o:\u001b[0m\u001b[1;31m`.syhhhhhhh/\u001b[0m\u001b[1;33m.oo++o`     \u001b[0m\u001b[1;31m CPU:\u001b[0m Intel Core i7-7700HQ @ 8x 3.8GHz [56.0°C]\u001b[0m\n",
      "\u001b[0m\u001b[1;31m               /osyyyyyyo\u001b[0m\u001b[1;33m++ooo+++/    \u001b[0m\u001b[1;31m GPU:\u001b[0m Intel Corporation HD Graphics 630 (rev 04)\u001b[0m\n",
      "\u001b[0m\u001b[1;31m                   ````` \u001b[0m\u001b[1;33m+oo+++o\\:    \u001b[0m\u001b[1;31m RAM:\u001b[0m 12385MiB / 15892MiB\u001b[0m\n",
      "\u001b[0m\u001b[1;33m                          `oo++.      \u001b[0m\n"
     ]
    }
   ],
   "source": [
    "!screenfetch"
   ]
  },
  {
   "cell_type": "code",
   "execution_count": 10,
   "metadata": {},
   "outputs": [
    {
     "output_type": "stream",
     "name": "stdout",
     "text": [
      "架构：                           x86_64\nCPU 运行模式：                   32-bit, 64-bit\n字节序：                         Little Endian\nAddress sizes:                   39 bits physical, 48 bits virtual\nCPU:                             8\n在线 CPU 列表：                  0-7\n每个核的线程数：                 2\n每个座的核数：                   4\n座：                             1\nNUMA 节点：                      1\n厂商 ID：                        GenuineIntel\nCPU 系列：                       6\n型号：                           158\n型号名称：                       Intel(R) Core(TM) i7-7700HQ CPU @ 2.80GHz\n步进：                           9\nCPU MHz：                        3293.898\nCPU 最大 MHz：                   3800.0000\nCPU 最小 MHz：                   800.0000\nBogoMIPS：                       5599.85\n虚拟化：                         VT-x\nL1d 缓存：                       128 KiB\nL1i 缓存：                       128 KiB\nL2 缓存：                        1 MiB\nL3 缓存：                        6 MiB\nNUMA 节点0 CPU：                 0-7\nVulnerability Itlb multihit:     KVM: Mitigation: VMX disabled\nVulnerability L1tf:              Mitigation; PTE Inversion; VMX conditional cach\n                                 e flushes, SMT vulnerable\nVulnerability Mds:               Mitigation; Clear CPU buffers; SMT vulnerable\nVulnerability Meltdown:          Mitigation; PTI\nVulnerability Spec store bypass: Mitigation; Speculative Store Bypass disabled v\n                                 ia prctl and seccomp\nVulnerability Spectre v1:        Mitigation; usercopy/swapgs barriers and __user\n                                  pointer sanitization\nVulnerability Spectre v2:        Mitigation; Full generic retpoline, IBPB condit\n                                 ional, IBRS_FW, STIBP conditional, RSB filling\nVulnerability Srbds:             Mitigation; Microcode\nVulnerability Tsx async abort:   Not affected\n标记：                           fpu vme de pse tsc msr pae mce cx8 apic sep mtr\n                                 r pge mca cmov pat pse36 clflush dts acpi mmx f\n                                 xsr sse sse2 ss ht tm pbe syscall nx pdpe1gb rd\n                                 tscp lm constant_tsc art arch_perfmon pebs bts \n                                 rep_good nopl xtopology nonstop_tsc cpuid aperf\n                                 mperf pni pclmulqdq dtes64 monitor ds_cpl vmx e\n                                 st tm2 ssse3 sdbg fma cx16 xtpr pdcm pcid sse4_\n                                 1 sse4_2 x2apic movbe popcnt tsc_deadline_timer\n                                  aes xsave avx f16c rdrand lahf_lm abm 3dnowpre\n                                 fetch cpuid_fault epb invpcid_single pti ssbd i\n                                 brs ibpb stibp tpr_shadow vnmi flexpriority ept\n                                  vpid ept_ad fsgsbase tsc_adjust bmi1 avx2 smep\n                                  bmi2 erms invpcid mpx rdseed adx smap clflusho\n                                 pt intel_pt xsaveopt xsavec xgetbv1 xsaves dthe\n                                 rm ida arat pln pts hwp hwp_notify hwp_act_wind\n                                 ow hwp_epp md_clear flush_l1d\n"
     ]
    }
   ],
   "source": []
  },
  {
   "cell_type": "markdown",
   "metadata": {},
   "source": [
    "#### 发现的好博客 https://www.jianshu.com/p/9cb378ba2c4e\n",
    "#### 参考书籍 python爬虫从入门到实践"
   ]
  },
  {
   "cell_type": "code",
   "execution_count": 2,
   "metadata": {},
   "outputs": [
    {
     "output_type": "stream",
     "name": "stdout",
     "text": [
      "<Response [200]>\n"
     ]
    }
   ],
   "source": [
    "\n",
    "import requests\n",
    "try:\n",
    "    print(requests.get(\"https://www.baidu.com\"))\n",
    "except:\n",
    "    print(\"有问题\")\n",
    "import requests\n",
    "# 如果出现了不允许访问的错误关闭杀毒软件\n"
   ]
  },
  {
   "source": [
    "#"
   ],
   "cell_type": "markdown",
   "metadata": {}
  }
 ],
 "metadata": {
  "kernelspec": {
   "display_name": "Python 3",
   "language": "python",
   "name": "python3"
  },
  "language_info": {
   "codemirror_mode": {
    "name": "ipython",
    "version": 3
   },
   "file_extension": ".py",
   "mimetype": "text/x-python",
   "name": "python",
   "nbconvert_exporter": "python",
   "pygments_lexer": "ipython3",
   "version": "3.8.5"
  }
 },
 "nbformat": 4,
 "nbformat_minor": 4
}