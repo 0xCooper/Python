{
 "metadata": {
  "language_info": {
   "codemirror_mode": {
    "name": "ipython",
    "version": 3
   },
   "file_extension": ".py",
   "mimetype": "text/x-python",
   "name": "python",
   "nbconvert_exporter": "python",
   "pygments_lexer": "ipython3",
   "version": "3.8.5-final"
  },
  "orig_nbformat": 2,
  "kernelspec": {
   "name": "python3",
   "display_name": "Python 3.8.5 64-bit ('base': conda)",
   "metadata": {
    "interpreter": {
     "hash": "9f0194299e911b6a22f0cd3d1c9a66c991d39f48b249be23f24104e40900e329"
    }
   }
  }
 },
 "nbformat": 4,
 "nbformat_minor": 2,
 "cells": [
  {
   "source": [
    "### re 正则表达式"
   ],
   "cell_type": "markdown",
   "metadata": {}
  },
  {
   "cell_type": "code",
   "execution_count": 17,
   "metadata": {},
   "outputs": [
    {
     "output_type": "stream",
     "name": "stdout",
     "text": [
      "(0, 3)\n<re.Match object; span=(0, 4), match='1231'>\n"
     ]
    }
   ],
   "source": [
    "import re\n",
    "print(re.match('www', 'www.runoob.com').span())  # 在起始位置匹配\n",
    "print(re.match('^[0-9]+', '1231www.runoob1231.com'))         # 不在起始位置匹配"
   ]
  },
  {
   "cell_type": "code",
   "execution_count": 10,
   "metadata": {},
   "outputs": [
    {
     "output_type": "stream",
     "name": "stdout",
     "text": [
      "matchObj.group() :  Cats are smarter than dogs\nmatchObj.group(1) :  Cats\nmatchObj.group(2) :  smarter\n"
     ]
    }
   ],
   "source": [
    "import re\n",
    " \n",
    "line = \"Cats are smarter than dogs\"\n",
    "# .* 表示任意匹配除换行符（\\n、\\r）之外的任何单个或多个字符\n",
    "# (.*?) 表示\"非贪婪\"模式，只保存第一个匹配到的子串\n",
    "matchObj = re.match( r'(.*) are (.*?) .*', line, re.M|re.I)\n",
    " \n",
    "if matchObj:\n",
    "   print (\"matchObj.group() : \", matchObj.group())\n",
    "   print (\"matchObj.group(1) : \", matchObj.group(1))\n",
    "   print (\"matchObj.group(2) : \", matchObj.group(2))\n",
    "else:\n",
    "   print (\"No match!!\")"
   ]
  },
  {
   "source": [
    "\n",
    "'^[0-9]+'  #匹配以数字开头的字符串 +为匹配多个数字，不加为单个\n",
    "' abc$  '  #匹配以字母结尾\n",
    "' [A-Z] ' #表示一个区间，匹配所有大写字母，[a-z] 表示所有小写字母。\n",
    "' [\\s\\S]'  #匹配所有。\\s 是匹配所有空白符，包括换行，\\S 非空白符，不包括换行。\n",
    "' \\w    ' #匹配字母、数字、下划线。等价于 [A-Za-z0-9_]\n",
    "'   *   '#表示任意字符"
   ],
   "cell_type": "code",
   "metadata": {},
   "execution_count": null,
   "outputs": []
  },
  {
   "cell_type": "code",
   "execution_count": null,
   "metadata": {},
   "outputs": [],
   "source": []
  },
  {
   "cell_type": "code",
   "execution_count": 8,
   "metadata": {},
   "outputs": [
    {
     "output_type": "stream",
     "name": "stdout",
     "text": [
      "0 1 2 3 4 5 6 7 8 9 \nI really love python\n"
     ]
    }
   ],
   "source": [
    "for i in range(10):\n",
    "    print(i,end=\" \")\n",
    "content=\"\\nI really love python\"\n",
    "print(content)\n"
   ]
  },
  {
   "cell_type": "code",
   "execution_count": null,
   "metadata": {},
   "outputs": [],
   "source": []
  }
 ]
}