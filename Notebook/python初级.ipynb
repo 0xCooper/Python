{
 "metadata": {
  "language_info": {
   "codemirror_mode": {
    "name": "ipython",
    "version": 3
   },
   "file_extension": ".py",
   "mimetype": "text/x-python",
   "name": "python",
   "nbconvert_exporter": "python",
   "pygments_lexer": "ipython3",
   "version": "3.8.5-final"
  },
  "orig_nbformat": 2,
  "kernelspec": {
   "name": "python3",
   "display_name": "Python 3.8.5 64-bit ('base': conda)",
   "metadata": {
    "interpreter": {
     "hash": "9f0194299e911b6a22f0cd3d1c9a66c991d39f48b249be23f24104e40900e329"
    }
   }
  }
 },
 "nbformat": 4,
 "nbformat_minor": 2,
 "cells": [
  {
   "cell_type": "code",
   "execution_count": 4,
   "metadata": {},
   "outputs": [
    {
     "output_type": "stream",
     "name": "stdout",
     "text": [
      "/anaconda/bin/python\n",
      "Defaulting to user installation because normal site-packages is not writeable\n",
      "\u001b[33mWARNING: The index url \"https：//pypi.tuna.tsinghua.edu.cn/simple/\" seems invalid, please provide a scheme.\u001b[0m\n",
      "Looking in indexes: https：//pypi.tuna.tsinghua.edu.cn/simple/\n",
      "\u001b[33mWARNING: Url 'https：//pypi.tuna.tsinghua.edu.cn/simple/mysql-connector/' is ignored. It is either a non-existing path or lacks a specific scheme.\u001b[0m\n",
      "\u001b[31mERROR: Could not find a version that satisfies the requirement mysql-connector (from versions: none)\u001b[0m\n",
      "\u001b[31mERROR: No matching distribution found for mysql-connector\u001b[0m\n",
      "\u001b[33mWARNING: Url 'https：//pypi.tuna.tsinghua.edu.cn/simple/pip/' is ignored. It is either a non-existing path or lacks a specific scheme.\u001b[0m\n"
     ]
    }
   ],
   "source": [
    "!which python\n",
    "!python -m pip install mysql-connector"
   ]
  },
  {
   "source": [
    "### 连接数据库"
   ],
   "cell_type": "markdown",
   "metadata": {}
  },
  {
   "cell_type": "code",
   "execution_count": 14,
   "metadata": {},
   "outputs": [
    {
     "output_type": "stream",
     "name": "stdout",
     "text": [
      "('sites',)\n"
     ]
    }
   ],
   "source": [
    "\n",
    "import mysql.connector\n",
    " \n",
    "mydb = mysql.connector.connect(\n",
    "  host=\"172.17.0.3\",\n",
    "  user=\"test1\",\n",
    "  passwd=\"6deAFSfdwniaBmBS\",\n",
    "  database=\"test1\"\n",
    ")\n",
    " \n",
    "mycursor = mydb.cursor()\n",
    "\n",
    " \n",
    "#mycursor.execute(\"CREATE DATABASE test_db\")\n",
    "mycursor.execute(\"SHOW TABLES\")\n",
    " \n",
    "for x in mycursor:\n",
    "  print(x)"
   ]
  },
  {
   "cell_type": "code",
   "execution_count": 16,
   "metadata": {},
   "outputs": [],
   "source": [
    "import mysql.connector\n",
    " \n",
    "mydb = mysql.connector.connect(\n",
    "  host=\"172.17.0.3\",\n",
    "  user=\"test1\",\n",
    "  passwd=\"6deAFSfdwniaBmBS\",\n",
    "  database=\"test1\"\n",
    ")\n",
    " \n",
    "mycursor = mydb.cursor()\n",
    "sql = \"INSERT INTO sites (name, url) VALUES (%s, %s)\"\n",
    "val = (\"Zhihu\", \"https://www.zhihu.com\")\n",
    "mycursor.execute(sql, val)\n",
    "mydb.commit()  "
   ]
  },
  {
   "cell_type": "code",
   "execution_count": null,
   "metadata": {},
   "outputs": [],
   "source": []
  }
 ]
}