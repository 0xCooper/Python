{
 "metadata": {
  "language_info": {
   "codemirror_mode": {
    "name": "ipython",
    "version": 3
   },
   "file_extension": ".py",
   "mimetype": "text/x-python",
   "name": "python",
   "nbconvert_exporter": "python",
   "pygments_lexer": "ipython3",
   "version": "3.8.5"
  },
  "orig_nbformat": 2,
  "kernelspec": {
   "name": "python3",
   "display_name": "Python 3",
   "language": "python"
  }
 },
 "nbformat": 4,
 "nbformat_minor": 2,
 "cells": [
  {
   "cell_type": "code",
   "execution_count": 1,
   "metadata": {},
   "outputs": [],
   "source": [
    "#已经安装的测试工具"
   ]
  },
  {
   "cell_type": "code",
   "execution_count": 2,
   "metadata": {},
   "outputs": [
    {
     "output_type": "stream",
     "name": "stdout",
     "text": [
      "\n",
      "(To exit, press ^C again or type .exit)\n",
      "\n",
      "\u001b[1G\u001b[0J> \u001b[3G"
     ]
    }
   ],
   "source": [
    "antsword\n",
    "burpsuite\n",
    "msfconsole\n",
    "nmap"
   ]
  },
  {
   "cell_type": "code",
   "execution_count": 3,
   "metadata": {},
   "outputs": [
    {
     "output_type": "stream",
     "name": "stdout",
     "text": [
      "NAME                          DESCRIPTION                                     STARS               OFFICIAL            AUTOMATED\njanes/beef                    beef easy to use                                13                                      [OK]\nmalwarelu/beef                                                                5                                       [OK]\nphocean/beef                  BeEF framework for XSS browser exploitation …   4                                       [OK]\nilyaglow/beef                 Docker for The Browser Exploitation Framework   3                                       [OK]\nbeefsack/webify               Turn shell commands into web services           1                                       \nbeef/bigcommerce-build                                                        1                                       \npybee/beefore-java            An image for running Beefore Java checks in …   0                                       [OK]\npybee/beefore                 An image for running Beefore checks in BeeKe…   0                                       [OK]\nwarch/beefxss                 simple beefxss docker image                     0                                       [OK]\nbeefone/redis                                                                 0                                       \npybee/beefore-javascript      An image for running Beefore Javascript chec…   0                                       [OK]\nbeefbytes/cowcraft-plugins    CowCraft plugins image                          0                                       [OK]\nbeefsorbet/web-api                                                            0                                       \nheywoodlh/beef                BEEF Framework                                  0                                       \nbeefsorbet/fe-client                                                          0                                       \nleicao/beefer                                                                 0                                       \n4knahs/beef                   Docker container for running beef (Browser e…   0                                       \ncpwilliams/beefy                                                              0                                       \nbeefsack/script-httpd         Project has been renamed to webify, please s…   0                                       \nbeefbytes/cowcraft-hub        CowCraft hub image                              0                                       [OK]\nazsuth/beefy-gainz-client                                                     0                                       \n4armed/beef                                                                   0                                       \nbannsec/beef                  function beef { sudo docker run -it --rm --n…   0                                       [OK]\nisaudits/beef                 BeEF Browser Exploitation Framework using Al…   0                                       \nazsuth/beefy-gainz-exercise                                                   0                                       \n"
     ]
    }
   ],
   "source": [
    "!docker search beef"
   ]
  },
  {
   "cell_type": "code",
   "execution_count": null,
   "metadata": {},
   "outputs": [],
   "source": [
    "#get post请求\n"
   ]
  },
  {
   "cell_type": "code",
   "execution_count": null,
   "metadata": {},
   "outputs": [],
   "source": [
    "docker"
   ]
  }
 ]
}