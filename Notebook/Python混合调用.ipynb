{
 "metadata": {
  "language_info": {
   "codemirror_mode": {
    "name": "ipython",
    "version": 3
   },
   "file_extension": ".py",
   "mimetype": "text/x-python",
   "name": "python",
   "nbconvert_exporter": "python",
   "pygments_lexer": "ipython3",
   "version": "3.8.5-final"
  },
  "orig_nbformat": 2,
  "kernelspec": {
   "name": "python3",
   "display_name": "Python 3.8.5 64-bit ('base': conda)",
   "metadata": {
    "interpreter": {
     "hash": "9f0194299e911b6a22f0cd3d1c9a66c991d39f48b249be23f24104e40900e329"
    }
   }
  }
 },
 "nbformat": 4,
 "nbformat_minor": 2,
 "cells": [
  {
   "source": [
    "### python与c/c++混合调用"
   ],
   "cell_type": "markdown",
   "metadata": {}
  },
  {
   "source": [
    "#### 1.简单实例"
   ],
   "cell_type": "markdown",
   "metadata": {}
  },
  {
   "cell_type": "code",
   "execution_count": null,
   "metadata": {},
   "outputs": [],
   "source": [
    "/***gcc -o libpycall.so -shared -fPIC pycall.c*/  \n",
    "#include <stdio.h> \n",
    "#include <stdlib.h>\n",
    "int foo(int a, int b)  \n",
    "{  \n",
    "  printf(\"you input %d and %d\\n\", a, b);  \n",
    "  return a+b;  \n",
    "}"
   ]
  },
  {
   "cell_type": "code",
   "execution_count": 20,
   "metadata": {},
   "outputs": [
    {
     "output_type": "execute_result",
     "data": {
      "text/plain": [
       "4"
      ]
     },
     "metadata": {},
     "execution_count": 20
    }
   ],
   "source": [
    "#用ctype调用\n",
    "import ctypes  \n",
    "ll = ctypes.cdll.LoadLibrary   \n",
    "lib = ll(\"testdir/libpycall.so\")\n",
    "lib.foo(1, 3)  \n",
    "#可以看到可以得到结果，但是中间过程没有打印，但在终端中是输出了的"
   ]
  },
  {
   "cell_type": "code",
   "execution_count": 10,
   "metadata": {},
   "outputs": [],
   "source": [
    " #在终端中的输出\n",
    " ╭─░▒▓ /windows/E/VsWorkstation/Python/Notebook/testdir                     ✔ base Py  15:23:38 ▓▒░\n",
    " ╰─  python3 cpython.py\n",
    "you input 1 and 3"
   ]
  },
  {
   "cell_type": "code",
   "execution_count": null,
   "metadata": {},
   "outputs": [],
   "source": []
  }
 ]
}