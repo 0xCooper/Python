{
 "cells": [
  {
   "cell_type": "code",
   "execution_count": 4,
   "metadata": {},
   "outputs": [],
   "source": [
    "import turtle\n",
    "turtle.speed('fastest')\n",
    "turtle.pensize(1)\n",
    "for y in range(200):\n",
    "    turtle.forward(3*y)\n",
    "    turtle.left(20)\n",
    "    turtle.right(175)\n"
   ]
  },
  {
   "cell_type": "markdown",
   "metadata": {},
   "source": [
    "#### 太阳花"
   ]
  },
  {
   "cell_type": "code",
   "execution_count": 8,
   "metadata": {},
   "outputs": [
    {
     "ename": "IndentationError",
     "evalue": "expected an indented block (<ipython-input-8-de85d5ad313c>, line 10)",
     "output_type": "error",
     "traceback": [
      "\u001b[1;36m  File \u001b[1;32m\"<ipython-input-8-de85d5ad313c>\"\u001b[1;36m, line \u001b[1;32m10\u001b[0m\n\u001b[1;33m    turtle.forward(200)\u001b[0m\n\u001b[1;37m    ^\u001b[0m\n\u001b[1;31mIndentationError\u001b[0m\u001b[1;31m:\u001b[0m expected an indented block\n"
     ]
    }
   ],
   "source": [
    "# coding=utf-8\n",
    "import turtle\n",
    "import time\n",
    "  \n",
    "# 同时设置pencolor=color1, fillcolor=color2\n",
    "turtle.color(\"red\", \"yellow\")\n",
    "  \n",
    "turtle.begin_fill()\n",
    "for _ in range(50):\n",
    "turtle.forward(200)\n",
    "turtle.left(170)\n",
    "turtle.end_fill()\n",
    "  \n",
    "turtle.mainloop()"
   ]
  },
  {
   "cell_type": "markdown",
   "metadata": {},
   "source": [
    "#### 时钟"
   ]
  },
  {
   "cell_type": "code",
   "execution_count": 16,
   "metadata": {},
   "outputs": [
    {
     "name": "stderr",
     "output_type": "stream",
     "text": [
      "Exception in Tkinter callback\n",
      "Traceback (most recent call last):\n",
      "  File \"F:\\Program File\\Anaconda\\lib\\tkinter\\__init__.py\", line 1883, in __call__\n",
      "    return self.func(*args)\n",
      "  File \"F:\\Program File\\Anaconda\\lib\\tkinter\\__init__.py\", line 804, in callit\n",
      "    func(*args)\n",
      "  File \"<ipython-input-16-e39f8ae6a403>\", line 97, in Tick\n",
      "    minHand.setheading(6 * minute)\n",
      "  File \"F:\\Program File\\Anaconda\\lib\\turtle.py\", line 1936, in setheading\n",
      "    self._rotate(angle)\n",
      "  File \"F:\\Program File\\Anaconda\\lib\\turtle.py\", line 3278, in _rotate\n",
      "    self._update()\n",
      "  File \"F:\\Program File\\Anaconda\\lib\\turtle.py\", line 2660, in _update\n",
      "    self._update_data()\n",
      "  File \"F:\\Program File\\Anaconda\\lib\\turtle.py\", line 2646, in _update_data\n",
      "    self.screen._incrementudc()\n",
      "  File \"F:\\Program File\\Anaconda\\lib\\turtle.py\", line 1292, in _incrementudc\n",
      "    raise Terminator\n",
      "turtle.Terminator\n"
     ]
    }
   ],
   "source": [
    "# coding=utf-8\n",
    "  \n",
    "import turtle\n",
    "from datetime import *\n",
    "  \n",
    "# 抬起画笔，向前运动一段距离放下\n",
    "def Skip(step):\n",
    "    turtle.penup()\n",
    "    turtle.forward(step)\n",
    "    turtle.pendown()\n",
    "  \n",
    "def mkHand(name, length):\n",
    "    # 注册Turtle形状，建立表针Turtle\n",
    "    turtle.reset()\n",
    "    Skip(-length * 0.1)\n",
    "    # 开始记录多边形的顶点。当前的乌龟位置是多边形的第一个顶点。\n",
    "    turtle.begin_poly()\n",
    "    turtle.forward(length * 1.1)\n",
    "    # 停止记录多边形的顶点。当前的乌龟位置是多边形的最后一个顶点。将与第一个顶点相连。\n",
    "    turtle.end_poly()\n",
    "    # 返回最后记录的多边形。\n",
    "    handForm = turtle.get_poly()\n",
    "    turtle.register_shape(name, handForm)\n",
    "  \n",
    "def Init():\n",
    "    global secHand, minHand, hurHand, printer\n",
    "    # 重置Turtle指向北\n",
    "    turtle.mode(\"logo\")\n",
    "    # 建立三个表针Turtle并初始化\n",
    "    mkHand(\"secHand\", 135)\n",
    "    mkHand(\"minHand\", 125)\n",
    "    mkHand(\"hurHand\", 90)\n",
    "    secHand = turtle.Turtle()\n",
    "    secHand.shape(\"secHand\")\n",
    "    minHand = turtle.Turtle()\n",
    "    minHand.shape(\"minHand\")\n",
    "    hurHand = turtle.Turtle()\n",
    "    hurHand.shape(\"hurHand\")\n",
    "    \n",
    "    for hand in secHand, minHand, hurHand:\n",
    "        hand.shapesize(1, 1, 3)\n",
    "        hand.speed(0)\n",
    "    \n",
    "    # 建立输出文字Turtle\n",
    "    printer = turtle.Turtle()\n",
    "    # 隐藏画笔的turtle形状\n",
    "    printer.hideturtle()\n",
    "    printer.penup()\n",
    "     \n",
    "def SetupClock(radius):\n",
    "    # 建立表的外框\n",
    "    turtle.reset()\n",
    "    turtle.pensize(7)\n",
    "    for i in range(60):\n",
    "        Skip(radius)\n",
    "        if i % 5 == 0:\n",
    "            turtle.forward(20)\n",
    "            Skip(-radius - 20)\n",
    "            \n",
    "            Skip(radius + 20)\n",
    "            if i == 0:\n",
    "                turtle.write(int(12), align=\"center\", font=(\"Courier\", 14, \"bold\"))\n",
    "            elif i == 30:\n",
    "                Skip(25)\n",
    "                turtle.write(int(i/5), align=\"center\", font=(\"Courier\", 14, \"bold\"))\n",
    "                Skip(-25)\n",
    "            elif (i == 25 or i == 35):\n",
    "                Skip(20)\n",
    "                turtle.write(int(i/5), align=\"center\", font=(\"Courier\", 14, \"bold\"))\n",
    "                Skip(-20)\n",
    "            else:\n",
    "                turtle.write(int(i/5), align=\"center\", font=(\"Courier\", 14, \"bold\"))\n",
    "            Skip(-radius - 20)\n",
    "        else:\n",
    "            turtle.dot(5)\n",
    "            Skip(-radius)\n",
    "        turtle.right(6)\n",
    "         \n",
    "def Week(t):  \n",
    "    week = [\"星期一\", \"星期二\", \"星期三\",\n",
    "            \"星期四\", \"星期五\", \"星期六\", \"星期日\"]\n",
    "    return week[t.weekday()]\n",
    "  \n",
    "def Date(t):\n",
    "    y = t.year\n",
    "    m = t.month\n",
    "    d = t.day\n",
    "    return \"%s %d%d\" % (y, m, d)\n",
    "  \n",
    "def Tick():\n",
    "    # 绘制表针的动态显示\n",
    "    t = datetime.today()\n",
    "    second = t.second + t.microsecond * 0.000001\n",
    "    minute = t.minute + second / 60.0\n",
    "    hour = t.hour + minute / 60.0\n",
    "    secHand.setheading(6 * second)\n",
    "    minHand.setheading(6 * minute)\n",
    "    hurHand.setheading(30 * hour)\n",
    "     \n",
    "    turtle.tracer(False)\n",
    "    printer.forward(65)\n",
    "    printer.write(Week(t), align=\"center\",\n",
    "                  font=(\"Courier\", 14, \"bold\"))\n",
    "    printer.back(130)\n",
    "    printer.write(Date(t), align=\"center\",\n",
    "                  font=(\"Courier\", 14, \"bold\"))\n",
    "    printer.home()\n",
    "    turtle.tracer(True)\n",
    "  \n",
    "    # 100ms后继续调用tick\n",
    "    turtle.ontimer(Tick, 100)\n",
    "  \n",
    "def main():\n",
    "    # 打开/关闭龟动画，并为更新图纸设置延迟。\n",
    "    turtle.tracer(False)\n",
    "    Init()\n",
    "    SetupClock(160)\n",
    "    turtle.tracer(True)\n",
    "    Tick()\n",
    "    turtle.mainloop()\n",
    "  \n",
    "if __name__ == \"__main__\":\n",
    "    main()"
   ]
  },
  {
   "cell_type": "code",
   "execution_count": 9,
   "metadata": {},
   "outputs": [],
   "source": [
    "import  sklearn\n",
    "from sklearn.datasets import load_iris\n",
    "\n",
    "def datasets_demo():\n",
    "    load_iris()\n",
    "    print(\"鸢尾花数据集：\\n\",iris)\n",
    "    return None\n",
    "\n",
    "if  __name__==\"_main_\":\n",
    "    detasets_demo()"
   ]
  },
  {
   "cell_type": "code",
   "execution_count": 5,
   "metadata": {
    "scrolled": true
   },
   "outputs": [
    {
     "name": "stdout",
     "output_type": "stream",
     "text": [
      "4\n"
     ]
    }
   ],
   "source": [
    "print(1+3)"
   ]
  },
  {
   "cell_type": "code",
   "execution_count": null,
   "metadata": {},
   "outputs": [],
   "source": []
  }
 ],
 "metadata": {
  "kernelspec": {
   "display_name": "Python 3",
   "language": "python",
   "name": "python3"
  },
  "language_info": {
   "codemirror_mode": {
    "name": "ipython",
    "version": 3
   },
   "file_extension": ".py",
   "mimetype": "text/x-python",
   "name": "python",
   "nbconvert_exporter": "python",
   "pygments_lexer": "ipython3",
   "version": "3.8.3"
  }
 },
 "nbformat": 4,
 "nbformat_minor": 4
}
