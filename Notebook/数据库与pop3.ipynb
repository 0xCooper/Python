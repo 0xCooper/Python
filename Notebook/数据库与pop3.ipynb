{
 "metadata": {
  "language_info": {
   "codemirror_mode": {
    "name": "ipython",
    "version": 3
   },
   "file_extension": ".py",
   "mimetype": "text/x-python",
   "name": "python",
   "nbconvert_exporter": "python",
   "pygments_lexer": "ipython3",
   "version": "3.8.5-final"
  },
  "orig_nbformat": 2,
  "kernelspec": {
   "name": "python3",
   "display_name": "Python 3.8.5 64-bit ('base': conda)",
   "metadata": {
    "interpreter": {
     "hash": "9f0194299e911b6a22f0cd3d1c9a66c991d39f48b249be23f24104e40900e329"
    }
   }
  }
 },
 "nbformat": 4,
 "nbformat_minor": 2,
 "cells": [
  {
   "cell_type": "code",
   "execution_count": null,
   "metadata": {},
   "outputs": [],
   "source": [
    "!which python\n",
    "!python -m pip install mysql-connector"
   ]
  },
  {
   "source": [
    "### 连接数据库"
   ],
   "cell_type": "markdown",
   "metadata": {}
  },
  {
   "cell_type": "code",
   "execution_count": null,
   "metadata": {},
   "outputs": [],
   "source": [
    "\n",
    "import mysql.connector\n",
    " \n",
    "mydb = mysql.connector.connect(\n",
    "  host=\"172.17.0.3\",\n",
    "  user=\"test1\",\n",
    "  passwd=\"6deAFSfdwniaBmBS\",\n",
    "  database=\"test1\"\n",
    ")\n",
    " \n",
    "mycursor = mydb.cursor()\n",
    "\n",
    " \n",
    "#mycursor.execute(\"CREATE DATABASE test_db\")\n",
    "mycursor.execute(\"SHOW TABLES\")\n",
    " \n",
    "for x in mycursor:\n",
    "  print(x)"
   ]
  },
  {
   "cell_type": "code",
   "execution_count": null,
   "metadata": {},
   "outputs": [],
   "source": [
    "import mysql.connector\n",
    " \n",
    "mydb = mysql.connector.connect(\n",
    "  host=\"172.17.0.3\",\n",
    "  user=\"test1\",\n",
    "  passwd=\"6deAFSfdwniaBmBS\",\n",
    "  database=\"test1\"\n",
    ")\n",
    " \n",
    "mycursor = mydb.cursor()\n",
    "sql = \"INSERT INTO sites (name, url) VALUES (%s, %s)\"\n",
    "val = (\"Zhihu\", \"https://www.zhihu.com\")\n",
    "mycursor.execute(sql, val)\n",
    "mydb.commit()  "
   ]
  },
  {
   "source": [
    "pymysql连接"
   ],
   "cell_type": "markdown",
   "metadata": {}
  },
  {
   "cell_type": "code",
   "execution_count": null,
   "metadata": {},
   "outputs": [],
   "source": [
    "import pymysql\n",
    " \n",
    "host=\"172.17.0.3\"\n",
    "user=\"test1\"\n",
    "passwd=\"6deAFSfdwniaBmBS\"\n",
    "database=\"test1\" \n",
    "# 打开数据库连接\n",
    "db = pymysql.connect(host,user,passwd,database)\n",
    " \n",
    "# 使用 cursor() 方法创建一个游标对象 cursor\n",
    "cursor = db.cursor()\n",
    " \n",
    "# 使用 execute()  方法执行 SQL 查询 \n",
    "cursor.execute(\"SELECT VERSION()\")\n",
    " \n",
    "# 使用 fetchone() 方法获取单条数据.\n",
    "data = cursor.fetchone()\n",
    " \n",
    "print (\"Database version : %s \" % data)\n",
    " \n",
    "# 关闭数据库连接\n",
    "db.close()"
   ]
  },
  {
   "source": [
    "### 发送邮箱"
   ],
   "cell_type": "markdown",
   "metadata": {}
  },
  {
   "cell_type": "code",
   "execution_count": null,
   "metadata": {},
   "outputs": [],
   "source": [
    "#!/usr/bin/python3\n",
    " \n",
    "import smtplib\n",
    "from email.mime.text import MIMEText\n",
    "from email.header import Header\n",
    " \n",
    "# 第三方 SMTP 服务\n",
    "mail_host=\"smtp.qq.com\"  #设置服务器\n",
    "mail_user=\"3096780454@qq.com\"    #用户名\n",
    "mail_pass=\"usgrqeuvedkhdfhc\"   #口令 \n",
    "EMAIL_USE_TLS = True\n",
    " \n",
    "sender = 'from@qq.com'\n",
    "receivers = ['1298356860@qq.com']  # 接收邮件，可设置为你的QQ邮箱或者其他邮箱\n",
    " \n",
    "message = MIMEText('Python 邮件发送测试...', 'plain', 'utf-8')\n",
    "message['From'] = Header(\"菜鸟教程\", 'utf-8')\n",
    "message['To'] =  Header(\"测试\", 'utf-8')\n",
    " \n",
    "subject = 'Python SMTP 邮件测试'\n",
    "message['Subject'] = Header(subject, 'utf-8')\n",
    " \n",
    "\n",
    "smtpObj = smtplib.SMTP() \n",
    "smtpObj.connect(mail_host, 25)    # 25 为 SMTP 端口号\n",
    "smtpObj.login(mail_user,mail_pass)\n",
    "smtpObj.sendmail(sender, receivers, message.as_string())\n",
    "\n"
   ]
  },
  {
   "cell_type": "code",
   "execution_count": 1,
   "metadata": {},
   "outputs": [
    {
     "output_type": "stream",
     "name": "stdout",
     "text": [
      "邮件发送成功\n",
      "邮件发送成功\n",
      "邮件发送成功\n",
      "邮件发送成功\n",
      "邮件发送成功\n",
      "邮件发送成功\n",
      "邮件发送成功\n",
      "邮件发送成功\n",
      "邮件发送成功\n",
      "邮件发送成功\n"
     ]
    }
   ],
   "source": [
    "#!/usr/bin/python3\n",
    " \n",
    "import smtplib\n",
    "from email.mime.text import MIMEText\n",
    "from email.utils import formataddr\n",
    "\n",
    " \n",
    "my_sender='3096780454@qq.com'    # 发件人邮箱账号\n",
    "my_pass = 'usgrqeuvedkhdfhc'              # 发件人邮箱密码\n",
    "my_user='1306588647@qq.com'      # 收件人邮箱账号，我这边发送给自己\n",
    "def mail():\n",
    "    ret=True\n",
    "    try:\n",
    "        msg=MIMEText('沙比国海在干嘛','plain','utf-8')\n",
    "        msg['From']=formataddr([\"Fromgrandfa\",my_sender])  # 括号里的对应发件人邮箱昵称、发件人邮箱账号\n",
    "        msg['To']=formataddr([\"FK\",my_user])              # 括号里的对应收件人邮箱昵称、收件人邮箱账号\n",
    "        msg['Subject']=\"爷爷发来的邮箱\"                # 邮件的主题，也可以说是标题\n",
    " \n",
    "        server=smtplib.SMTP_SSL(\"smtp.qq.com\", 465)  # SMTP端口是25 QQ 邮箱 SMTP 服务器地址：smtp.qq.com，ssl 端口：465\n",
    "        server.login(my_sender, my_pass)  # 括号中对应的是发件人邮箱账号、邮箱密码\n",
    "        server.sendmail(my_sender,[my_user,],msg.as_string())  # 括号中对应的是发件人邮箱账号、收件人邮箱账号、发送邮件\n",
    "        server.quit()  # 关闭连接\n",
    "    except Exception:  # 如果 try 中的语句没有执行，则会执行下面的 ret=False\n",
    "        ret=False\n",
    "    return ret\n",
    "\n",
    "for i in range(10): \n",
    "    ret=mail()\n",
    "    if ret:\n",
    "        print(\"邮件发送成功\")\n",
    "    else:\n",
    "        print(\"邮件发送失败\")\n",
    "\n"
   ]
  },
  {
   "cell_type": "code",
   "execution_count": 2,
   "metadata": {},
   "outputs": [
    {
     "output_type": "stream",
     "name": "stdout",
     "text": [
      "0 1 2 3 4 5 6 7 8 9 10 11 12 13 14 15 16 17 18 19 20 21 22 23 24 25 26 27 28 29 30 31 32 33 34 35 36 37 38 39 40 41 42 43 44 45 46 47 48 49 50 51 52 53 54 55 56 57 58 59 60 61 62 63 64 65 66 67 68 69 70 71 72 73 74 75 76 77 78 79 80 81 82 83 84 85 86 87 88 89 90 91 92 93 94 95 96 97 98 99 "
     ]
    }
   ],
   "source": [
    "for i in range(100):\n",
    "    print(i,end=\" \")"
   ]
  },
  {
   "cell_type": "code",
   "execution_count": 3,
   "metadata": {},
   "outputs": [
    {
     "output_type": "stream",
     "name": "stdout",
     "text": [
      "邮件发送成功\n",
      "邮件发送成功\n",
      "邮件发送成功\n",
      "邮件发送成功\n",
      "邮件发送成功\n",
      "邮件发送成功\n",
      "邮件发送成功\n",
      "邮件发送成功\n",
      "邮件发送成功\n",
      "邮件发送成功\n"
     ]
    }
   ],
   "source": [
    "#!/usr/bin/python3\n",
    " \n",
    "import smtplib\n",
    "from email.mime.text import MIMEText\n",
    "from email.utils import formataddr\n",
    "import  time\n",
    " \n",
    "my_sender='3096780454@qq.com'    # 发件人邮箱账号\n",
    "my_pass = 'usgrqeuvedkhdfhc'              # 发件人邮箱密码\n",
    "my_user= '1306588647@qq.com'      # 收件人邮箱账号，我这边发送给自己\n",
    "def mail():\n",
    "    ret=True\n",
    "    try:\n",
    "        msg=MIMEText('沙比国海在干嘛','plain','utf-8')\n",
    "        msg['From']=formataddr([\"Fromgrandfa\",my_sender])  # 括号里的对应发件人邮箱昵称、发件人邮箱账号\n",
    "        msg['To']=formataddr([\"FK\",my_user])              # 括号里的对应收件人邮箱昵称、收件人邮箱账号\n",
    "        msg['Subject']=\"爷爷发来的邮箱\"                # 邮件的主题，也可以说是标题\n",
    " \n",
    "        server=smtplib.SMTP_SSL(\"smtp.qq.com\", 465)  # SMTP端口是25 QQ 邮箱 SMTP 服务器地址：smtp.qq.com，ssl 端口：465\n",
    "        server.login(my_sender, my_pass)            # 括号中对应的是发件人邮箱账号、邮箱密码\n",
    "        server.sendmail(my_sender,[my_user,],msg.as_string())  # 括号中对应的是发件人邮箱账号、收件人邮箱账号、发送邮件\n",
    "        server.quit()  # 关闭连接\n",
    "    except Exception:  # 如果 try 中的语句没有执行，则会执行下面的 ret=False\n",
    "        ret=False\n",
    "    return ret\n",
    "\n",
    "for i in range(10): \n",
    "    ret=mail()\n",
    "    if ret:\n",
    "        print(\"邮件发送成功\")\n",
    "    else:\n",
    "        print(\"邮件发送失败\")\n",
    "\n"
   ]
  },
  {
   "cell_type": "code",
   "execution_count": 1,
   "metadata": {},
   "outputs": [
    {
     "output_type": "stream",
     "name": "stdout",
     "text": [
      "http:/c.biancheng.net/python\n"
     ]
    }
   ],
   "source": [
    "from pathlib import *\n",
    "path = PurePosixPath('http:','c.biancheng.net','python')\n",
    "print(path)"
   ]
  },
  {
   "cell_type": "code",
   "execution_count": 2,
   "metadata": {},
   "outputs": [
    {
     "output_type": "stream",
     "name": "stdout",
     "text": [
      "<class 'pathlib.PurePosixPath'>\n"
     ]
    }
   ],
   "source": [
    "print(type(path))"
   ]
  },
  {
   "cell_type": "code",
   "execution_count": null,
   "metadata": {},
   "outputs": [],
   "source": []
  }
 ]
}